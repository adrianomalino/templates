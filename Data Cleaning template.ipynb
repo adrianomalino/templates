{
 "cells": [
  {
   "cell_type": "markdown",
   "id": "b5a2c01d",
   "metadata": {},
   "source": [
    "# Steps Explained:\n",
    "1. Set the Working Directory: Set and verify the working directory.\n",
    "2. Load the Dataset: Load the dataset and display the first few rows.\n",
    "3. Basic Information: Display basic information about the dataset.\n",
    "4. Summary Statistics: Display summary statistics of the dataset.\n",
    "5. Handling Missing Values: Display the number of missing values for each column; Visualize missing values using a heatmap; Fill or drop missing values.\n",
    "6. Handling Duplicate Rows: Display the number of duplicate rows; Drop duplicate rows.\n",
    "7. Handling Outliers: Visualize numerical features to detect outliers; Remove outliers using Z-score or other methods.\n",
    "8. Converting Data Types: Display the data types of each column; Convert data types if necessary.\n",
    "9. Handling Categorical Data: Display unique values for categorical features; Encode categorical variables using one-hot encoding or label encoding.\n",
    "10. Feature Scaling: Normalize or standardize numerical features.\n",
    "11. Save Cleaned Dataset: Save the cleaned dataset to a new file."
   ]
  },
  {
   "cell_type": "code",
   "execution_count": null,
   "id": "98ad5fb8",
   "metadata": {},
   "outputs": [],
   "source": [
    "import os\n",
    "import pandas as pd\n",
    "import numpy as np\n",
    "import matplotlib.pyplot as plt\n",
    "import seaborn as sns\n",
    "\n",
    "# Set the working directory\n",
    "working_directory = 'your_directory_path'  # Replace with your desired directory path\n",
    "os.chdir(working_directory)"
   ]
  },
  {
   "cell_type": "code",
   "execution_count": null,
   "id": "e277322c",
   "metadata": {},
   "outputs": [],
   "source": [
    "# Load the dataset\n",
    "# df = pd.read_csv('your_dataset.csv')  # Load your dataset here\n",
    "# df = pd.read_excel('your_dataset.xlsx')  # Alternatively, load an Excel file\n",
    "\n",
    "# Display the first few rows of the dataset\n",
    "print(\"First few rows of the dataset:\")\n",
    "print(df.head())\n",
    "\n",
    "# Display basic information about the dataset\n",
    "print(\"\\nBasic Information:\")\n",
    "print(df.info())\n",
    "\n",
    "# Display summary statistics of the dataset\n",
    "print(\"\\nSummary Statistics:\")\n",
    "print(df.describe())"
   ]
  },
  {
   "cell_type": "code",
   "execution_count": null,
   "id": "7ff8a72c",
   "metadata": {},
   "outputs": [],
   "source": [
    "# Handling Missing Values\n",
    "# Display the number of missing values for each column\n",
    "print(\"\\nMissing Values:\")\n",
    "print(df.isnull().sum())\n",
    "\n",
    "# Visualize missing values using a heatmap\n",
    "plt.figure(figsize=(10, 6))\n",
    "sns.heatmap(df.isnull(), cbar=False, cmap='viridis')\n",
    "plt.title('Missing Values Heatmap')\n",
    "plt.show()\n",
    "\n",
    "# Handle missing values\n",
    "# Example: Fill missing values with the mean of the column\n",
    "# df.fillna(df.mean(), inplace=True)\n",
    "\n",
    "# Example: Fill missing values with the median of the column\n",
    "# df.fillna(df.median(), inplace=True)\n",
    "\n",
    "# Example: Fill missing values with the mode of the column\n",
    "# df.fillna(df.mode().iloc[0], inplace=True)\n",
    "\n",
    "# Example: Drop rows with missing values\n",
    "# df.dropna(inplace=True)\n"
   ]
  },
  {
   "cell_type": "code",
   "execution_count": null,
   "id": "67d0ce2a",
   "metadata": {},
   "outputs": [],
   "source": [
    "# Handling Duplicate Rows\n",
    "# Display the number of duplicate rows\n",
    "print(\"\\nDuplicate Rows:\")\n",
    "print(df.duplicated().sum())\n",
    "\n",
    "# Drop duplicate rows\n",
    "df.drop_duplicates(inplace=True)"
   ]
  },
  {
   "cell_type": "code",
   "execution_count": null,
   "id": "298035fd",
   "metadata": {},
   "outputs": [],
   "source": [
    "# Handling Outliers\n",
    "# Visualize numerical features to detect outliers\n",
    "numerical_features = df.select_dtypes(include=[np.number]).columns.tolist()\n",
    "for feature in numerical_features:\n",
    "    plt.figure(figsize=(10, 6))\n",
    "    sns.boxplot(x=df[feature])\n",
    "    plt.title(f'Box Plot of {feature}')\n",
    "    plt.show()\n",
    "\n",
    "# Handle outliers\n",
    "# Example: Remove outliers using Z-score\n",
    "from scipy import stats\n",
    "z_scores = np.abs(stats.zscore(df[numerical_features]))\n",
    "df = df[(z_scores < 3).all(axis=1)]"
   ]
  },
  {
   "cell_type": "code",
   "execution_count": null,
   "id": "505bee93",
   "metadata": {},
   "outputs": [],
   "source": [
    "# Converting Data Types\n",
    "# Display the data types of each column\n",
    "print(\"\\nData Types:\")\n",
    "print(df.dtypes)\n",
    "\n",
    "# Convert data types if necessary\n",
    "# Example: Convert a column to datetime\n",
    "# df['date_column'] = pd.to_datetime(df['date_column'])\n",
    "\n",
    "# Example: Convert a column to a specific type\n",
    "# df['numeric_column'] = df['numeric_column'].astype(float)"
   ]
  },
  {
   "cell_type": "code",
   "execution_count": null,
   "id": "732f5194",
   "metadata": {},
   "outputs": [],
   "source": [
    "# Handling Categorical Data\n",
    "# Display unique values for categorical features\n",
    "categorical_features = df.select_dtypes(include=[object]).columns.tolist()\n",
    "for feature in categorical_features:\n",
    "    print(f\"\\nUnique values in {feature}:\")\n",
    "    print(df[feature].unique())\n",
    "\n",
    "# Encoding categorical variables\n",
    "# Example: One-hot encoding\n",
    "# df = pd.get_dummies(df, columns=categorical_features, drop_first=True)\n",
    "\n",
    "# Example: Label encoding\n",
    "# from sklearn.preprocessing import LabelEncoder\n",
    "# le = LabelEncoder()\n",
    "# for feature in categorical_features:\n",
    "#     df[feature] = le.fit_transform(df[feature])\n",
    "\n",
    "# Feature Scaling\n",
    "# Normalize or standardize numerical features\n",
    "from sklearn.preprocessing import StandardScaler, MinMaxScaler\n",
    "\n",
    "# Example: Standardization\n",
    "# scaler = StandardScaler()\n",
    "# df[numerical_features] = scaler.fit_transform(df[numerical_features])\n",
    "\n",
    "# Example: Normalization\n",
    "# scaler = MinMaxScaler()\n",
    "# df[numerical_features] = scaler.fit_transform(df[numerical_features])\n",
    "\n",
    "# Save the cleaned dataset to a new file\n",
    "# df.to_csv('cleaned_dataset.csv', index=False)\n",
    "\n",
    "print(\"\\nData cleaning complete. Cleaned dataset saved (if applicable).\")"
   ]
  }
 ],
 "metadata": {
  "kernelspec": {
   "display_name": "Python 3 (ipykernel)",
   "language": "python",
   "name": "python3"
  },
  "language_info": {
   "codemirror_mode": {
    "name": "ipython",
    "version": 3
   },
   "file_extension": ".py",
   "mimetype": "text/x-python",
   "name": "python",
   "nbconvert_exporter": "python",
   "pygments_lexer": "ipython3",
   "version": "3.11.4"
  }
 },
 "nbformat": 4,
 "nbformat_minor": 5
}
