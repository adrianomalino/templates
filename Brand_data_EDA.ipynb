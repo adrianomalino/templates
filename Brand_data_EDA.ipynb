{
 "cells": [
  {
   "cell_type": "markdown",
   "id": "08515398",
   "metadata": {},
   "source": [
    "# Questions:\n",
    "1. What is the Stockists number for all drink subcategories?\n",
    "2. What is the average RoS for all drink subcategories?\n",
    "3. How RoS for all subcategories has been changing over time?"
   ]
  },
  {
   "cell_type": "markdown",
   "id": "c50e7d9a",
   "metadata": {},
   "source": [
    "# Loading in dataset and libraries"
   ]
  },
  {
   "cell_type": "code",
   "execution_count": 2,
   "id": "c3ac321d",
   "metadata": {},
   "outputs": [
    {
     "name": "stderr",
     "output_type": "stream",
     "text": [
      "C:\\Users\\Adrian\\AppData\\Local\\anaconda3\\Lib\\site-packages\\openpyxl\\styles\\stylesheet.py:226: UserWarning: Workbook contains no default style, apply openpyxl's default\n",
      "  warn(\"Workbook contains no default style, apply openpyxl's default\")\n"
     ]
    }
   ],
   "source": [
    "import os\n",
    "import pandas as pd\n",
    "import numpy as np\n",
    "import matplotlib.pyplot as plt\n",
    "import seaborn as sns\n",
    "\n",
    "# Set the working directory\n",
    "working_directory = 'C:/Users/Adrian/OneDrive - CANDCGROUPPLC/Documents/Projects'  # Replace with your desired directory path\n",
    "os.chdir(working_directory)\n",
    "\n",
    "df = pd.read_excel('branddatamay.xlsx')  # Alternatively, load an Excel file"
   ]
  },
  {
   "cell_type": "code",
   "execution_count": 3,
   "id": "07d6d5ad",
   "metadata": {},
   "outputs": [
    {
     "name": "stdout",
     "output_type": "stream",
     "text": [
      "First few rows of the dataset:\n",
      "                   Brand                        Brewer  ABV Band  \\\n",
      "0               Guinness                     Diageo GB  Standard   \n",
      "1  Peroni Nastro Azzurro                      Asahi UK   Premium   \n",
      "2              Budweiser  Budweiser Brewing Group UK&I   Premium   \n",
      "3           Corona Extra  Budweiser Brewing Group UK&I   Premium   \n",
      "4          Birra Moretti                   Heineken UK   Premium   \n",
      "\n",
      "  Type Of Alcohol          Country      TY Value      LY Value     4YA Value  \\\n",
      "0           Stout  ENGLAND & WALES  1.212176e+09  1.009297e+09  6.968812e+08   \n",
      "1           Lager  ENGLAND & WALES  7.699909e+08  8.082669e+08  6.386178e+08   \n",
      "2           Lager  ENGLAND & WALES  1.347664e+08  1.478763e+08  1.475035e+08   \n",
      "3           Lager  ENGLAND & WALES  2.107635e+08  2.262674e+08  1.494667e+08   \n",
      "4           Lager  ENGLAND & WALES  1.003165e+09  9.706575e+08  3.924389e+08   \n",
      "\n",
      "      TY Volume     LY Volume  ...  Stockists 4YA     ROS TY     ROS LY  \\\n",
      "0  1.526620e+06  1.331083e+06  ...   59481.185941  27.316343  22.739366   \n",
      "1  7.113324e+05  7.807796e+05  ...   50505.073442  13.955950  14.109652   \n",
      "2  1.462520e+05  1.634161e+05  ...   55166.936702   3.240372   3.192130   \n",
      "3  2.007998e+05  2.215382e+05  ...   44639.521499   4.607467   4.586373   \n",
      "4  1.081434e+06  1.082231e+06  ...   21734.908645  33.075528  32.765281   \n",
      "\n",
      "     ROS 4YA  Value Change Vs LY  Volume Change Vs LY  %Value Change Vs LY  \\\n",
      "0  16.576598        2.028797e+08         195537.67423             0.201011   \n",
      "1  12.905819       -3.827603e+07         -69447.21369            -0.047356   \n",
      "2   2.959818       -1.310992e+07         -17164.16391            -0.088655   \n",
      "3   3.087855       -1.550390e+07         -20738.39570            -0.068520   \n",
      "4  21.980184        3.250698e+07           -797.27435             0.033490   \n",
      "\n",
      "   %Volume Change Vs LY  %Stockists Change Vs LY  %ROS Change Vs LY  \n",
      "0              0.146901                -0.045267           0.201280  \n",
      "1             -0.088946                -0.078912          -0.010893  \n",
      "2             -0.105033                -0.118358           0.015113  \n",
      "3             -0.093611                -0.097760           0.004599  \n",
      "4             -0.000737                -0.010110           0.009469  \n",
      "\n",
      "[5 rows x 23 columns]\n"
     ]
    }
   ],
   "source": [
    "# Display the first few rows of the dataset\n",
    "print(\"First few rows of the dataset:\")\n",
    "print(df.head())"
   ]
  },
  {
   "cell_type": "code",
   "execution_count": 4,
   "id": "023f02b0",
   "metadata": {},
   "outputs": [
    {
     "name": "stdout",
     "output_type": "stream",
     "text": [
      "\n",
      "Basic Information:\n",
      "<class 'pandas.core.frame.DataFrame'>\n",
      "RangeIndex: 1800 entries, 0 to 1799\n",
      "Data columns (total 23 columns):\n",
      " #   Column                   Non-Null Count  Dtype  \n",
      "---  ------                   --------------  -----  \n",
      " 0   Brand                    1799 non-null   object \n",
      " 1   Brewer                   1797 non-null   object \n",
      " 2   ABV Band                 1797 non-null   object \n",
      " 3   Type Of Alcohol          1797 non-null   object \n",
      " 4   Country                  1797 non-null   object \n",
      " 5   TY Value                 1529 non-null   float64\n",
      " 6   LY Value                 1517 non-null   float64\n",
      " 7   4YA Value                1583 non-null   float64\n",
      " 8   TY Volume                1529 non-null   float64\n",
      " 9   LY Volume                1517 non-null   float64\n",
      " 10  4YA Volume               1583 non-null   float64\n",
      " 11  Stockists TY             1529 non-null   float64\n",
      " 12  Stockists LY             1517 non-null   float64\n",
      " 13  Stockists 4YA            1583 non-null   float64\n",
      " 14  ROS TY                   1529 non-null   float64\n",
      " 15  ROS LY                   1517 non-null   float64\n",
      " 16  ROS 4YA                  1583 non-null   float64\n",
      " 17  Value Change Vs LY       1581 non-null   float64\n",
      " 18  Volume Change Vs LY      1581 non-null   float64\n",
      " 19  %Value Change Vs LY      1517 non-null   float64\n",
      " 20  %Volume Change Vs LY     1517 non-null   float64\n",
      " 21  %Stockists Change Vs LY  1517 non-null   float64\n",
      " 22  %ROS Change Vs LY        1517 non-null   float64\n",
      "dtypes: float64(18), object(5)\n",
      "memory usage: 323.6+ KB\n",
      "None\n"
     ]
    }
   ],
   "source": [
    "# Display basic information about the dataset\n",
    "print(\"\\nBasic Information:\")\n",
    "print(df.info())"
   ]
  },
  {
   "cell_type": "code",
   "execution_count": 4,
   "id": "51cb6757",
   "metadata": {},
   "outputs": [
    {
     "name": "stdout",
     "output_type": "stream",
     "text": [
      "\n",
      "Summary Statistics:\n",
      "           TY Value      LY Value     4YA Value     TY Volume     LY Volume  \\\n",
      "count  1.529000e+03  1.517000e+03  1.583000e+03  1.529000e+03  1.517000e+03   \n",
      "mean   2.048997e+07  2.025701e+07  1.741211e+07  2.599312e+04  2.677364e+04   \n",
      "std    4.058445e+08  3.994277e+08  3.511298e+08  5.153560e+05  5.285878e+05   \n",
      "min    3.200000e-02  7.800000e-02  6.074700e+01  6.000000e-05  1.300000e-04   \n",
      "25%    3.813124e+04  4.386103e+04  3.988131e+04  4.036889e+01  4.950634e+01   \n",
      "50%    2.384098e+05  2.776319e+05  2.560283e+05  2.829761e+02  3.265757e+02   \n",
      "75%    1.777120e+06  1.915845e+06  1.613842e+06  2.131142e+03  2.431789e+03   \n",
      "max    1.566458e+10  1.536494e+10  1.378169e+10  1.987174e+07  2.030780e+07   \n",
      "\n",
      "         4YA Volume  Stockists TY  Stockists LY  Stockists 4YA       ROS TY  \\\n",
      "count  1.583000e+03   1529.000000   1517.000000    1583.000000  1529.000000   \n",
      "mean   2.556226e+04   1335.185146   1446.807976    1264.538365    10.882794   \n",
      "std    5.169047e+05   4381.630626   4705.627878    4586.774174   211.247022   \n",
      "min    4.640000e-02      3.173077      3.750000       3.050000     0.000004   \n",
      "25%    5.040102e+01     37.898836     40.234243      28.500045     0.413678   \n",
      "50%    3.240010e+02    135.897845    161.383985     108.038172     1.769206   \n",
      "75%    2.292912e+03    646.958698    798.535679     579.079178     6.883563   \n",
      "max    2.023253e+07  55886.702828  58536.491408   59481.185941  8257.181318   \n",
      "\n",
      "            ROS LY      ROS 4YA  Value Change Vs LY  Volume Change Vs LY  \\\n",
      "count  1517.000000  1583.000000        1.581000e+03          1581.000000   \n",
      "mean     10.754187    11.792153        3.790522e+05          -551.634185   \n",
      "std     205.218050   215.249296        1.368340e+07         16811.632732   \n",
      "min       0.000010     0.006830       -7.604492e+07       -436066.822940   \n",
      "25%       0.421406     0.689136       -1.337736e+05          -205.692790   \n",
      "50%       1.917971     2.938309       -5.536676e+03           -10.123940   \n",
      "75%       6.940233     8.717184        3.416562e+04            27.446760   \n",
      "max    7991.262450  8561.594244        2.996408e+08        271640.324190   \n",
      "\n",
      "       %Value Change Vs LY  %Volume Change Vs LY  %Stockists Change Vs LY  \\\n",
      "count          1517.000000           1517.000000              1517.000000   \n",
      "mean            537.609710            576.806949                 0.009329   \n",
      "std           14199.087617          15397.223408                 2.278907   \n",
      "min              -1.000000             -1.000000                -1.000000   \n",
      "25%              -0.384434             -0.398258                -0.234747   \n",
      "50%              -0.088655             -0.117877                -0.086294   \n",
      "75%               0.170308              0.133068                 0.006005   \n",
      "max          420590.271150         465556.629630                83.741770   \n",
      "\n",
      "       %ROS Change Vs LY  \n",
      "count        1517.000000  \n",
      "mean          606.982719  \n",
      "std         16379.650799  \n",
      "min            -1.000000  \n",
      "25%            -0.244619  \n",
      "50%            -0.021549  \n",
      "75%             0.192731  \n",
      "max        541628.919758  \n"
     ]
    }
   ],
   "source": [
    "# Display summary statistics of the dataset\n",
    "print(\"\\nSummary Statistics:\")\n",
    "print(df.describe())"
   ]
  },
  {
   "cell_type": "markdown",
   "id": "9aad56f2",
   "metadata": {},
   "source": [
    "# Cleaning"
   ]
  },
  {
   "cell_type": "code",
   "execution_count": 6,
   "id": "78c8bb30",
   "metadata": {},
   "outputs": [
    {
     "name": "stdout",
     "output_type": "stream",
     "text": [
      "\n",
      "Missing Values:\n",
      "Brand                        1\n",
      "Brewer                       3\n",
      "ABV Band                     3\n",
      "Type Of Alcohol              3\n",
      "Country                      3\n",
      "TY Value                   271\n",
      "LY Value                   283\n",
      "4YA Value                  217\n",
      "TY Volume                  271\n",
      "LY Volume                  283\n",
      "4YA Volume                 217\n",
      "Stockists TY               271\n",
      "Stockists LY               283\n",
      "Stockists 4YA              217\n",
      "ROS TY                     271\n",
      "ROS LY                     283\n",
      "ROS 4YA                    217\n",
      "Value Change Vs LY         219\n",
      "Volume Change Vs LY        219\n",
      "%Value Change Vs LY        283\n",
      "%Volume Change Vs LY       283\n",
      "%Stockists Change Vs LY    283\n",
      "%ROS Change Vs LY          283\n",
      "dtype: int64\n"
     ]
    },
    {
     "data": {
      "image/png": "[encoded data removed]",
      "text/plain": [
       "<Figure size 1000x600 with 1 Axes>"
      ]
     },
     "metadata": {},
     "output_type": "display_data"
    }
   ],
   "source": [
    "#handling missing data\n",
    "# Handling Missing Values\n",
    "# Display the number of missing values for each column\n",
    "print(\"\\nMissing Values:\")\n",
    "print(df.isnull().sum())\n",
    "\n",
    "# Visualize missing values using a heatmap\n",
    "plt.figure(figsize=(10, 6))\n",
    "sns.heatmap(df.isnull(), cbar=False, cmap='viridis')\n",
    "plt.title('Missing Values Heatmap')\n",
    "plt.show()\n",
    "\n",
    "# Handle missing values\n",
    "# Example: Fill missing values with the mean of the column\n",
    "# df.fillna(df.mean(), inplace=True)\n",
    "\n",
    "# Example: Fill missing values with the median of the column\n",
    "# df.fillna(df.median(), inplace=True)\n",
    "\n",
    "# Example: Fill missing values with the mode of the column\n",
    "# df.fillna(df.mode().iloc[0], inplace=True)\n",
    "\n",
    "# Example: Drop rows with missing values\n",
    "df.dropna(inplace=True)\n",
    "\n",
    "###comment: would be informative to explore brands with missing data - why they have been discontinued?"
   ]
  },
  {
   "cell_type": "code",
   "execution_count": 7,
   "id": "e5f2b52f",
   "metadata": {},
   "outputs": [
    {
     "name": "stdout",
     "output_type": "stream",
     "text": [
      "\n",
      "Missing Values:\n",
      "Brand                      0\n",
      "Brewer                     0\n",
      "ABV Band                   0\n",
      "Type Of Alcohol            0\n",
      "Country                    0\n",
      "TY Value                   0\n",
      "LY Value                   0\n",
      "4YA Value                  0\n",
      "TY Volume                  0\n",
      "LY Volume                  0\n",
      "4YA Volume                 0\n",
      "Stockists TY               0\n",
      "Stockists LY               0\n",
      "Stockists 4YA              0\n",
      "ROS TY                     0\n",
      "ROS LY                     0\n",
      "ROS 4YA                    0\n",
      "Value Change Vs LY         0\n",
      "Volume Change Vs LY        0\n",
      "%Value Change Vs LY        0\n",
      "%Volume Change Vs LY       0\n",
      "%Stockists Change Vs LY    0\n",
      "%ROS Change Vs LY          0\n",
      "dtype: int64\n"
     ]
    }
   ],
   "source": [
    "print(\"\\nMissing Values:\")\n",
    "print(df.isnull().sum())"
   ]
  },
  {
   "cell_type": "code",
   "execution_count": 8,
   "id": "4cffe820",
   "metadata": {},
   "outputs": [
    {
     "name": "stdout",
     "output_type": "stream",
     "text": [
      "\n",
      "Duplicate Rows:\n",
      "0\n"
     ]
    }
   ],
   "source": [
    "# Handling Duplicate Rows\n",
    "# Display the number of duplicate rows\n",
    "print(\"\\nDuplicate Rows:\")\n",
    "print(df.duplicated().sum())\n",
    "\n",
    "# Drop duplicate rows\n",
    "df.drop_duplicates(inplace=True)"
   ]
  },
  {
   "cell_type": "code",
   "execution_count": 10,
   "id": "8c97f74f",
   "metadata": {},
   "outputs": [
    {
     "data": {
      "image/png": "[encoded data removed]",
      "text/plain": [
       "<Figure size 1000x600 with 1 Axes>"
      ]
     },
     "metadata": {},
     "output_type": "display_data"
    },
    {
     "data": {
      "image/png": "[encoded data removed]",
      "text/plain": [
       "<Figure size 1000x600 with 1 Axes>"
      ]
     },
     "metadata": {},
     "output_type": "display_data"
    },
    {
     "data": {
      "image/png": "[encoded data removed]",
      "text/plain": [
       "<Figure size 1000x600 with 1 Axes>"
      ]
     },
     "metadata": {},
     "output_type": "display_data"
    },
    {
     "data": {
      "image/png": "[encoded data removed]",
      "text/plain": [
       "<Figure size 1000x600 with 1 Axes>"
      ]
     },
     "metadata": {},
     "output_type": "display_data"
    },
    {
     "data": {
      "image/png": "[encoded data removed]",
      "text/plain": [
       "<Figure size 1000x600 with 1 Axes>"
      ]
     },
     "metadata": {},
     "output_type": "display_data"
    },
    {
     "data": {
      "image/png": "[encoded data removed]",
      "text/plain": [
       "<Figure size 1000x600 with 1 Axes>"
      ]
     },
     "metadata": {},
     "output_type": "display_data"
    },
    {
     "data": {
      "image/png": "[encoded data removed]",
      "text/plain": [
       "<Figure size 1000x600 with 1 Axes>"
      ]
     },
     "metadata": {},
     "output_type": "display_data"
    },
    {
     "data": {
      "image/png": "[encoded data removed]",
      "text/plain": [
       "<Figure size 1000x600 with 1 Axes>"
      ]
     },
     "metadata": {},
     "output_type": "display_data"
    },
    {
     "data": {
      "image/png": "[encoded data removed]",
      "text/plain": [
       "<Figure size 1000x600 with 1 Axes>"
      ]
     },
     "metadata": {},
     "output_type": "display_data"
    },
    {
     "data": {
      "image/png": "[encoded data removed]",
      "text/plain": [
       "<Figure size 1000x600 with 1 Axes>"
      ]
     },
     "metadata": {},
     "output_type": "display_data"
    },
    {
     "data": {
      "image/png": "[encoded data removed]",
      "text/plain": [
       "<Figure size 1000x600 with 1 Axes>"
      ]
     },
     "metadata": {},
     "output_type": "display_data"
    },
    {
     "data": {
      "image/png": "[encoded data removed]",
      "text/plain": [
       "<Figure size 1000x600 with 1 Axes>"
      ]
     },
     "metadata": {},
     "output_type": "display_data"
    },
    {
     "data": {
      "image/png": "[encoded data removed]",
      "text/plain": [
       "<Figure size 1000x600 with 1 Axes>"
      ]
     },
     "metadata": {},
     "output_type": "display_data"
    },
    {
     "data": {
      "image/png": "[encoded data removed]",
      "text/plain": [
       "<Figure size 1000x600 with 1 Axes>"
      ]
     },
     "metadata": {},
     "output_type": "display_data"
    },
    {
     "data": {
      "image/png": "[encoded data removed]",
      "text/plain": [
       "<Figure size 1000x600 with 1 Axes>"
      ]
     },
     "metadata": {},
     "output_type": "display_data"
    },
    {
     "data": {
      "image/png": "[encoded data removed]",
      "text/plain": [
       "<Figure size 1000x600 with 1 Axes>"
      ]
     },
     "metadata": {},
     "output_type": "display_data"
    },
    {
     "data": {
      "image/png": "[encoded data removed]",
      "text/plain": [
       "<Figure size 1000x600 with 1 Axes>"
      ]
     },
     "metadata": {},
     "output_type": "display_data"
    },
    {
     "data": {
      "image/png": "[encoded data removed]",
      "text/plain": [
       "<Figure size 1000x600 with 1 Axes>"
      ]
     },
     "metadata": {},
     "output_type": "display_data"
    }
   ],
   "source": [
    "#Handling Outliers\n",
    "# Visualize numerical features to detect outliers\n",
    "numerical_features = df.select_dtypes(include=[np.number]).columns.tolist()\n",
    "for feature in numerical_features:\n",
    "    plt.figure(figsize=(10, 6))\n",
    "    sns.boxplot(x=df[feature])\n",
    "    plt.title(f'Box Plot of {feature}')\n",
    "    plt.show()\n",
    "\n",
    "# Handle outliers\n",
    "# Example: Remove outliers using Z-score\n",
    "from scipy import stats\n",
    "z_scores = np.abs(stats.zscore(df[numerical_features]))\n",
    "df = df[(z_scores < 3).all(axis=1)]"
   ]
  },
  {
   "cell_type": "code",
   "execution_count": 35,
   "id": "9baa3c94",
   "metadata": {},
   "outputs": [
    {
     "data": {
      "text/html": [
       "<div>\n",
       "<style scoped>\n",
       "    .dataframe tbody tr th:only-of-type {\n",
       "        vertical-align: middle;\n",
       "    }\n",
       "\n",
       "    .dataframe tbody tr th {\n",
       "        vertical-align: top;\n",
       "    }\n",
       "\n",
       "    .dataframe thead th {\n",
       "        text-align: right;\n",
       "    }\n",
       "</style>\n",
       "<table border=\"1\" class=\"dataframe\">\n",
       "  <thead>\n",
       "    <tr style=\"text-align: right;\">\n",
       "      <th></th>\n",
       "      <th>Brand</th>\n",
       "      <th>Brewer</th>\n",
       "      <th>Type Of Alcohol</th>\n",
       "      <th>Country</th>\n",
       "      <th>Stockists TY</th>\n",
       "      <th>%ROS Change Vs LY</th>\n",
       "      <th>%Stockists Change Vs LY</th>\n",
       "    </tr>\n",
       "  </thead>\n",
       "  <tbody>\n",
       "    <tr>\n",
       "      <th>34</th>\n",
       "      <td>Old Mout Cider Pineapple &amp; Raspberry</td>\n",
       "      <td>Heineken UK</td>\n",
       "      <td>Cider</td>\n",
       "      <td>ENGLAND &amp; WALES</td>\n",
       "      <td>15099.238424</td>\n",
       "      <td>0.022652</td>\n",
       "      <td>0.054606</td>\n",
       "    </tr>\n",
       "    <tr>\n",
       "      <th>37</th>\n",
       "      <td>All Other Brewers</td>\n",
       "      <td>Other Brewers</td>\n",
       "      <td>Ale</td>\n",
       "      <td>ENGLAND &amp; WALES</td>\n",
       "      <td>14037.689305</td>\n",
       "      <td>0.017592</td>\n",
       "      <td>-0.061868</td>\n",
       "    </tr>\n",
       "    <tr>\n",
       "      <th>38</th>\n",
       "      <td>All Other Brewers</td>\n",
       "      <td>Other Brewers</td>\n",
       "      <td>Lager</td>\n",
       "      <td>ENGLAND &amp; WALES</td>\n",
       "      <td>12586.824237</td>\n",
       "      <td>-0.093113</td>\n",
       "      <td>-0.168860</td>\n",
       "    </tr>\n",
       "    <tr>\n",
       "      <th>39</th>\n",
       "      <td>All Other Brewers</td>\n",
       "      <td>Other Brewers</td>\n",
       "      <td>Cider</td>\n",
       "      <td>ENGLAND &amp; WALES</td>\n",
       "      <td>12286.097985</td>\n",
       "      <td>-0.061953</td>\n",
       "      <td>-0.110974</td>\n",
       "    </tr>\n",
       "    <tr>\n",
       "      <th>40</th>\n",
       "      <td>Peroni Nastro Azzurro Gluten Free</td>\n",
       "      <td>Asahi UK</td>\n",
       "      <td>Lager</td>\n",
       "      <td>ENGLAND &amp; WALES</td>\n",
       "      <td>12234.629246</td>\n",
       "      <td>0.006845</td>\n",
       "      <td>-0.053893</td>\n",
       "    </tr>\n",
       "  </tbody>\n",
       "</table>\n",
       "</div>"
      ],
      "text/plain": [
       "                                   Brand         Brewer Type Of Alcohol  \\\n",
       "34  Old Mout Cider Pineapple & Raspberry    Heineken UK           Cider   \n",
       "37                     All Other Brewers  Other Brewers             Ale   \n",
       "38                     All Other Brewers  Other Brewers           Lager   \n",
       "39                     All Other Brewers  Other Brewers           Cider   \n",
       "40     Peroni Nastro Azzurro Gluten Free       Asahi UK           Lager   \n",
       "\n",
       "            Country  Stockists TY  %ROS Change Vs LY  %Stockists Change Vs LY  \n",
       "34  ENGLAND & WALES  15099.238424           0.022652                 0.054606  \n",
       "37  ENGLAND & WALES  14037.689305           0.017592                -0.061868  \n",
       "38  ENGLAND & WALES  12586.824237          -0.093113                -0.168860  \n",
       "39  ENGLAND & WALES  12286.097985          -0.061953                -0.110974  \n",
       "40  ENGLAND & WALES  12234.629246           0.006845                -0.053893  "
      ]
     },
     "execution_count": 35,
     "metadata": {},
     "output_type": "execute_result"
    }
   ],
   "source": [
    "#Filtering out values above 100% and below -100% for RoS and Stockists\n",
    "\n",
    "df_ros_stockists = df[[\"Brand\", \"Brewer\", \"Type Of Alcohol\", \"Country\", \"Stockists TY\", \"%ROS Change Vs LY\", \"%Stockists Change Vs LY\"]]\n",
    "\n",
    "df_ros_stockists.head()"
   ]
  },
  {
   "cell_type": "code",
   "execution_count": 38,
   "id": "b1153a60",
   "metadata": {},
   "outputs": [
    {
     "data": {
      "text/html": [
       "<div>\n",
       "<style scoped>\n",
       "    .dataframe tbody tr th:only-of-type {\n",
       "        vertical-align: middle;\n",
       "    }\n",
       "\n",
       "    .dataframe tbody tr th {\n",
       "        vertical-align: top;\n",
       "    }\n",
       "\n",
       "    .dataframe thead th {\n",
       "        text-align: right;\n",
       "    }\n",
       "</style>\n",
       "<table border=\"1\" class=\"dataframe\">\n",
       "  <thead>\n",
       "    <tr style=\"text-align: right;\">\n",
       "      <th></th>\n",
       "      <th>TY Value</th>\n",
       "      <th>LY Value</th>\n",
       "      <th>4YA Value</th>\n",
       "      <th>TY Volume</th>\n",
       "      <th>LY Volume</th>\n",
       "      <th>4YA Volume</th>\n",
       "      <th>Stockists TY</th>\n",
       "      <th>Stockists LY</th>\n",
       "      <th>Stockists 4YA</th>\n",
       "      <th>ROS TY</th>\n",
       "      <th>ROS LY</th>\n",
       "      <th>ROS 4YA</th>\n",
       "      <th>Value Change Vs LY</th>\n",
       "      <th>Volume Change Vs LY</th>\n",
       "      <th>%Value Change Vs LY</th>\n",
       "      <th>%Volume Change Vs LY</th>\n",
       "      <th>%Stockists Change Vs LY</th>\n",
       "      <th>%ROS Change Vs LY</th>\n",
       "    </tr>\n",
       "  </thead>\n",
       "  <tbody>\n",
       "    <tr>\n",
       "      <th>count</th>\n",
       "      <td>2.380000e+02</td>\n",
       "      <td>2.380000e+02</td>\n",
       "      <td>2.380000e+02</td>\n",
       "      <td>238.000000</td>\n",
       "      <td>238.000000</td>\n",
       "      <td>238.000000</td>\n",
       "      <td>238.000000</td>\n",
       "      <td>238.000000</td>\n",
       "      <td>238.000000</td>\n",
       "      <td>238.000000</td>\n",
       "      <td>238.000000</td>\n",
       "      <td>238.000000</td>\n",
       "      <td>2.380000e+02</td>\n",
       "      <td>238.000000</td>\n",
       "      <td>238.000000</td>\n",
       "      <td>238.000000</td>\n",
       "      <td>238.000000</td>\n",
       "      <td>238.000000</td>\n",
       "    </tr>\n",
       "    <tr>\n",
       "      <th>mean</th>\n",
       "      <td>1.395013e+07</td>\n",
       "      <td>1.421019e+07</td>\n",
       "      <td>1.276209e+07</td>\n",
       "      <td>17092.995356</td>\n",
       "      <td>18077.747165</td>\n",
       "      <td>17718.018899</td>\n",
       "      <td>3230.083883</td>\n",
       "      <td>3461.427449</td>\n",
       "      <td>2849.921953</td>\n",
       "      <td>4.842471</td>\n",
       "      <td>4.725644</td>\n",
       "      <td>5.397861</td>\n",
       "      <td>-2.600625e+05</td>\n",
       "      <td>-984.751809</td>\n",
       "      <td>0.028760</td>\n",
       "      <td>-0.012634</td>\n",
       "      <td>-0.060216</td>\n",
       "      <td>0.041265</td>\n",
       "    </tr>\n",
       "    <tr>\n",
       "      <th>std</th>\n",
       "      <td>2.176821e+07</td>\n",
       "      <td>2.147777e+07</td>\n",
       "      <td>1.922574e+07</td>\n",
       "      <td>27517.806199</td>\n",
       "      <td>28399.266646</td>\n",
       "      <td>28264.340210</td>\n",
       "      <td>2568.860702</td>\n",
       "      <td>2724.542143</td>\n",
       "      <td>2579.521861</td>\n",
       "      <td>5.747746</td>\n",
       "      <td>5.453347</td>\n",
       "      <td>5.855589</td>\n",
       "      <td>3.833836e+06</td>\n",
       "      <td>4487.125672</td>\n",
       "      <td>0.352096</td>\n",
       "      <td>0.320399</td>\n",
       "      <td>0.181072</td>\n",
       "      <td>0.227594</td>\n",
       "    </tr>\n",
       "    <tr>\n",
       "      <th>min</th>\n",
       "      <td>2.013927e+05</td>\n",
       "      <td>1.537800e+05</td>\n",
       "      <td>1.008210e+04</td>\n",
       "      <td>179.864520</td>\n",
       "      <td>187.509230</td>\n",
       "      <td>10.917710</td>\n",
       "      <td>1012.344734</td>\n",
       "      <td>831.379203</td>\n",
       "      <td>13.560946</td>\n",
       "      <td>0.133435</td>\n",
       "      <td>0.133393</td>\n",
       "      <td>0.100201</td>\n",
       "      <td>-1.516015e+07</td>\n",
       "      <td>-19039.691420</td>\n",
       "      <td>-0.945554</td>\n",
       "      <td>-0.945108</td>\n",
       "      <td>-0.467460</td>\n",
       "      <td>-0.930452</td>\n",
       "    </tr>\n",
       "    <tr>\n",
       "      <th>25%</th>\n",
       "      <td>1.793782e+06</td>\n",
       "      <td>2.027149e+06</td>\n",
       "      <td>1.452272e+06</td>\n",
       "      <td>1804.028562</td>\n",
       "      <td>1884.396100</td>\n",
       "      <td>1581.457318</td>\n",
       "      <td>1468.377167</td>\n",
       "      <td>1609.511656</td>\n",
       "      <td>1187.725821</td>\n",
       "      <td>0.809323</td>\n",
       "      <td>0.763644</td>\n",
       "      <td>0.759387</td>\n",
       "      <td>-1.352016e+06</td>\n",
       "      <td>-2211.055213</td>\n",
       "      <td>-0.164851</td>\n",
       "      <td>-0.184705</td>\n",
       "      <td>-0.149837</td>\n",
       "      <td>-0.076999</td>\n",
       "    </tr>\n",
       "    <tr>\n",
       "      <th>50%</th>\n",
       "      <td>6.018866e+06</td>\n",
       "      <td>5.667039e+06</td>\n",
       "      <td>5.166960e+06</td>\n",
       "      <td>6505.078145</td>\n",
       "      <td>6676.054365</td>\n",
       "      <td>5446.307915</td>\n",
       "      <td>2262.687136</td>\n",
       "      <td>2503.825827</td>\n",
       "      <td>2076.155600</td>\n",
       "      <td>2.584476</td>\n",
       "      <td>2.572358</td>\n",
       "      <td>2.900169</td>\n",
       "      <td>-1.280925e+05</td>\n",
       "      <td>-255.733450</td>\n",
       "      <td>-0.047587</td>\n",
       "      <td>-0.083622</td>\n",
       "      <td>-0.101359</td>\n",
       "      <td>0.026026</td>\n",
       "    </tr>\n",
       "    <tr>\n",
       "      <th>75%</th>\n",
       "      <td>1.590323e+07</td>\n",
       "      <td>1.735949e+07</td>\n",
       "      <td>1.598824e+07</td>\n",
       "      <td>19778.790457</td>\n",
       "      <td>21367.270753</td>\n",
       "      <td>19577.456988</td>\n",
       "      <td>4053.853452</td>\n",
       "      <td>4205.189880</td>\n",
       "      <td>3659.721444</td>\n",
       "      <td>6.775617</td>\n",
       "      <td>7.268273</td>\n",
       "      <td>8.885235</td>\n",
       "      <td>4.494373e+05</td>\n",
       "      <td>340.068115</td>\n",
       "      <td>0.153390</td>\n",
       "      <td>0.103645</td>\n",
       "      <td>-0.033612</td>\n",
       "      <td>0.147151</td>\n",
       "    </tr>\n",
       "    <tr>\n",
       "      <th>max</th>\n",
       "      <td>1.666664e+08</td>\n",
       "      <td>1.500485e+08</td>\n",
       "      <td>1.087964e+08</td>\n",
       "      <td>173608.091610</td>\n",
       "      <td>180627.704110</td>\n",
       "      <td>160038.639600</td>\n",
       "      <td>15099.238424</td>\n",
       "      <td>15144.055790</td>\n",
       "      <td>15145.236938</td>\n",
       "      <td>29.465243</td>\n",
       "      <td>28.004352</td>\n",
       "      <td>30.942814</td>\n",
       "      <td>2.274771e+07</td>\n",
       "      <td>25865.037680</td>\n",
       "      <td>2.152016</td>\n",
       "      <td>1.646072</td>\n",
       "      <td>0.994565</td>\n",
       "      <td>0.906539</td>\n",
       "    </tr>\n",
       "  </tbody>\n",
       "</table>\n",
       "</div>"
      ],
      "text/plain": [
       "           TY Value      LY Value     4YA Value      TY Volume      LY Volume  \\\n",
       "count  2.380000e+02  2.380000e+02  2.380000e+02     238.000000     238.000000   \n",
       "mean   1.395013e+07  1.421019e+07  1.276209e+07   17092.995356   18077.747165   \n",
       "std    2.176821e+07  2.147777e+07  1.922574e+07   27517.806199   28399.266646   \n",
       "min    2.013927e+05  1.537800e+05  1.008210e+04     179.864520     187.509230   \n",
       "25%    1.793782e+06  2.027149e+06  1.452272e+06    1804.028562    1884.396100   \n",
       "50%    6.018866e+06  5.667039e+06  5.166960e+06    6505.078145    6676.054365   \n",
       "75%    1.590323e+07  1.735949e+07  1.598824e+07   19778.790457   21367.270753   \n",
       "max    1.666664e+08  1.500485e+08  1.087964e+08  173608.091610  180627.704110   \n",
       "\n",
       "          4YA Volume  Stockists TY  Stockists LY  Stockists 4YA      ROS TY  \\\n",
       "count     238.000000    238.000000    238.000000     238.000000  238.000000   \n",
       "mean    17718.018899   3230.083883   3461.427449    2849.921953    4.842471   \n",
       "std     28264.340210   2568.860702   2724.542143    2579.521861    5.747746   \n",
       "min        10.917710   1012.344734    831.379203      13.560946    0.133435   \n",
       "25%      1581.457318   1468.377167   1609.511656    1187.725821    0.809323   \n",
       "50%      5446.307915   2262.687136   2503.825827    2076.155600    2.584476   \n",
       "75%     19577.456988   4053.853452   4205.189880    3659.721444    6.775617   \n",
       "max    160038.639600  15099.238424  15144.055790   15145.236938   29.465243   \n",
       "\n",
       "           ROS LY     ROS 4YA  Value Change Vs LY  Volume Change Vs LY  \\\n",
       "count  238.000000  238.000000        2.380000e+02           238.000000   \n",
       "mean     4.725644    5.397861       -2.600625e+05          -984.751809   \n",
       "std      5.453347    5.855589        3.833836e+06          4487.125672   \n",
       "min      0.133393    0.100201       -1.516015e+07        -19039.691420   \n",
       "25%      0.763644    0.759387       -1.352016e+06         -2211.055213   \n",
       "50%      2.572358    2.900169       -1.280925e+05          -255.733450   \n",
       "75%      7.268273    8.885235        4.494373e+05           340.068115   \n",
       "max     28.004352   30.942814        2.274771e+07         25865.037680   \n",
       "\n",
       "       %Value Change Vs LY  %Volume Change Vs LY  %Stockists Change Vs LY  \\\n",
       "count           238.000000            238.000000               238.000000   \n",
       "mean              0.028760             -0.012634                -0.060216   \n",
       "std               0.352096              0.320399                 0.181072   \n",
       "min              -0.945554             -0.945108                -0.467460   \n",
       "25%              -0.164851             -0.184705                -0.149837   \n",
       "50%              -0.047587             -0.083622                -0.101359   \n",
       "75%               0.153390              0.103645                -0.033612   \n",
       "max               2.152016              1.646072                 0.994565   \n",
       "\n",
       "       %ROS Change Vs LY  \n",
       "count         238.000000  \n",
       "mean            0.041265  \n",
       "std             0.227594  \n",
       "min            -0.930452  \n",
       "25%            -0.076999  \n",
       "50%             0.026026  \n",
       "75%             0.147151  \n",
       "max             0.906539  "
      ]
     },
     "execution_count": 38,
     "metadata": {},
     "output_type": "execute_result"
    }
   ],
   "source": [
    "filtered_ros_stockists = df[(df[\"%ROS Change Vs LY\"] >= -1) & (df['%ROS Change Vs LY'] <= 1) & (df[\"%Stockists Change Vs LY\"] >= -1) & (df['Stockists TY'] >= 1000) & (df['%Stockists Change Vs LY'] <= 1)]\n",
    "\n",
    "filtered_ros_stockists.describe()"
   ]
  },
  {
   "cell_type": "code",
   "execution_count": 39,
   "id": "d890a0bb",
   "metadata": {},
   "outputs": [
    {
     "data": {
      "image/png": "[encoded data removed]",
      "text/plain": [
       "<Figure size 800x600 with 1 Axes>"
      ]
     },
     "metadata": {},
     "output_type": "display_data"
    }
   ],
   "source": [
    "# Scatterplot with trend line\n",
    "plt.figure(figsize=(8, 6))\n",
    "sns.scatterplot(data=filtered_ros_stockists, x='%ROS Change Vs LY', y='%Stockists Change Vs LY', hue='Type Of Alcohol')\n",
    "plt.title('Scatterplot of X vs Y with Trend Line')\n",
    "plt.xlabel('ROS Change vs. LY')\n",
    "plt.ylabel('Stockists Change vs. LY')\n",
    "plt.axhline(y=0, color='r', linestyle='--', label='y=10')\n",
    "plt.axvline(x=0, color='b', linestyle='--', label='x=5')\n",
    "plt.show()\n",
    "\n"
   ]
  },
  {
   "cell_type": "code",
   "execution_count": 52,
   "id": "28dad003",
   "metadata": {},
   "outputs": [
    {
     "data": {
      "application/vnd.plotly.v1+json": {
       "config": {
        "plotlyServerURL": "https://plot.ly"
       },
       "data": [
        {
         "customdata": [
          [
           "Old Mout Cider Pineapple & Raspberry",
           "ENGLAND & WALES"
          ],
          [
           "All Other Brewers",
           "ENGLAND & WALES"
          ],
          [
           "Old Mout Cider Berries & Cherries Alcohol Free",
           "ENGLAND & WALES"
          ],
          [
           "Rekorderlig Passion Fruit",
           "ENGLAND & WALES"
          ],
          [
           "Rekorderlig Mango and Raspberry",
           "ENGLAND & WALES"
          ],
          [
           "Westons Stowford Press",
           "ENGLAND & WALES"
          ],
          [
           "All Other Brewers",
           "ENGLAND & WALES"
          ],
          [
           "Carling",
           "ENGLAND & WALES"
          ],
          [
           "Kopparberg Strawberry And Lime Non-Alcoholic",
           "ENGLAND & WALES"
          ],
          [
           "Rekorderlig Strawberry & Lime Low Alcohol",
           "ENGLAND & WALES"
          ],
          [
           "Magners",
           "SCOTLAND"
          ],
          [
           "All Other Thatchers",
           "ENGLAND & WALES"
          ],
          [
           "Thatchers Haze",
           "ENGLAND & WALES"
          ],
          [
           "Kopparberg",
           "SCOTLAND"
          ],
          [
           "Strongbow",
           "SCOTLAND"
          ],
          [
           "All Other Thatchers",
           "ENGLAND & WALES"
          ],
          [
           "Thatchers Haze",
           "ENGLAND & WALES"
          ],
          [
           "Strongbow Dark Fruit",
           "SCOTLAND"
          ],
          [
           "Magners Dark Fruit",
           "ENGLAND & WALES"
          ],
          [
           "Orchard Pig Reveller",
           "ENGLAND & WALES"
          ],
          [
           "Somersby Cider",
           "ENGLAND & WALES"
          ],
          [
           "Rekorderlig Pear",
           "ENGLAND & WALES"
          ],
          [
           "All Other Kopparberg Cider of Sweden Ltd",
           "ENGLAND & WALES"
          ],
          [
           "Westons Old Rosie",
           "ENGLAND & WALES"
          ],
          [
           "Orchard Thieves Apple Cider",
           "ENGLAND & WALES"
          ],
          [
           "Kopparberg Passionfruit",
           "ENGLAND & WALES"
          ],
          [
           "Rekorderlig Apple Cider",
           "ENGLAND & WALES"
          ],
          [
           "Bulmers Orchard Pioneers Green Apple Cider",
           "ENGLAND & WALES"
          ],
          [
           "Cornish Orchards Cornish Gold Cider",
           "ENGLAND & WALES"
          ],
          [
           "Thatchers Dry",
           "ENGLAND & WALES"
          ],
          [
           "Thatchers Katy",
           "ENGLAND & WALES"
          ],
          [
           "Healeys Cornish Rattler Original",
           "ENGLAND & WALES"
          ],
          [
           "Thatchers Rose",
           "ENGLAND & WALES"
          ],
          [
           "All Other Molson Coors",
           "ENGLAND & WALES"
          ],
          [
           "Rekorderlig Strawberry & Lime",
           "SCOTLAND"
          ],
          [
           "Thatchers Traditional",
           "ENGLAND & WALES"
          ],
          [
           "All Other Brewers",
           "ENGLAND & WALES"
          ],
          [
           "Kopparberg Strawberry And Lime Non-Alcoholic",
           "SCOTLAND"
          ],
          [
           "Old Mout Cider Passionfruit & Apple",
           "ENGLAND & WALES"
          ],
          [
           "Kingstone Press",
           "ENGLAND & WALES"
          ],
          [
           "All Other Westons",
           "ENGLAND & WALES"
          ],
          [
           "Magners Dark Fruit",
           "SCOTLAND"
          ],
          [
           "Symonds Founders Reserve",
           "ENGLAND & WALES"
          ],
          [
           "All Other Westons",
           "ENGLAND & WALES"
          ],
          [
           "Westons Rosies Pig Cloudy Cider",
           "ENGLAND & WALES"
          ],
          [
           "Brothers",
           "ENGLAND & WALES"
          ],
          [
           "Carling British Cider",
           "ENGLAND & WALES"
          ],
          [
           "Rekorderlig Wild Berries",
           "SCOTLAND"
          ],
          [
           "Any Other Draught Cider",
           "ENGLAND & WALES"
          ],
          [
           "Old Mout Cider Berries & Cherries",
           "SCOTLAND"
          ],
          [
           "Bulmers",
           "SCOTLAND"
          ],
          [
           "All Other Carlsberg UK",
           "ENGLAND & WALES"
          ],
          [
           "All Other Westons",
           "ENGLAND & WALES"
          ],
          [
           "Kopparberg Strawberry And Lime",
           "ENGLAND & WALES"
          ],
          [
           "Rekorderlig Spiced Plum",
           "ENGLAND & WALES"
          ],
          [
           "Aspall Harry Sparrow Cyder",
           "ENGLAND & WALES"
          ],
          [
           "Woodpecker",
           "ENGLAND & WALES"
          ],
          [
           "All Other C & C Group",
           "ENGLAND & WALES"
          ],
          [
           "Old Mout Cider Kiwi & Lime",
           "SCOTLAND"
          ],
          [
           "Kingstone Press Wild Berry",
           "ENGLAND & WALES"
          ],
          [
           "Old Mout Cider Pineapple & Raspberry",
           "SCOTLAND"
          ],
          [
           "All Other Brewers",
           "SCOTLAND"
          ],
          [
           "All Other Brothers Drink Company",
           "ENGLAND & WALES"
          ]
         ],
         "hovertemplate": "Type Of Alcohol=Cider<br>%ROS Change Vs LY=%{x}<br>%Stockists Change Vs LY=%{y}<br>Brand=%{customdata[0]}<br>Country=%{customdata[1]}<extra></extra>",
         "legendgroup": "Cider",
         "marker": {
          "color": "#636efa",
          "size": 15,
          "symbol": "circle"
         },
         "mode": "markers",
         "name": "Cider",
         "orientation": "v",
         "showlegend": true,
         "type": "scatter",
         "x": [
          0.022651969121633416,
          -0.061952686887270556,
          0.32696976728612936,
          -0.06717397127990239,
          0.03794822802271358,
          0.00226574052159933,
          -0.08739346008974787,
          0.1206310302782058,
          0.13352879815277255,
          0.39991426383657563,
          0.10044558105756546,
          -0.36915336154521594,
          0.037849433810014085,
          -0.019838240211426626,
          -0.07124640616864736,
          0.012171757471466975,
          0.220743497840087,
          -0.030187025489892553,
          0.03534078171792077,
          -0.0843917377677318,
          0.1086719290971052,
          0.0669365662844637,
          -0.20436765487351852,
          0.16898749025612814,
          -0.06147075110712334,
          -0.2323697248433997,
          0.036292303032412696,
          0.384756278062995,
          0.04044411860147416,
          0.1127920928423328,
          -0.007156276202185519,
          0.0039969765370146855,
          0.3525996381630047,
          0.11244043873111792,
          0.19537139380695398,
          0.8186440929673576,
          -0.08048642798574873,
          0.22437577553742685,
          0.8958770827345477,
          -0.7020124466305998,
          0.2711650935262751,
          -0.25407780135996494,
          -0.9304516991118732,
          0.6811898293996843,
          0.32388301423874166,
          -0.3046730415894431,
          -0.022412771403729666,
          0.16795785332433413,
          0.20174251496840562,
          0.3053860697110723,
          -0.16185412732371018,
          0.3573941175448227,
          -0.07890487445116265,
          0.042025041984331955,
          0.5016942427127463,
          0.01737884758027442,
          -0.11361010350890538,
          -0.08013297988228242,
          -0.01378413982320968,
          -0.5512290883066903,
          0.1816076446323586,
          0.14100000314244351,
          0.058505925938153264
         ],
         "xaxis": "x",
         "y": [
          0.05460628104517798,
          -0.11097385339838975,
          0.28289850338888367,
          -0.07134443557386325,
          -0.120490360722494,
          -0.06031596200384459,
          -0.11040811338560846,
          -0.16543284869061023,
          0.14407536678018418,
          0.2774278478571688,
          -0.04918025861062556,
          0.3748203623142361,
          -0.041986563574135,
          0.016148626154077583,
          -0.08553464963217847,
          0.5581768697316474,
          -0.03682592249768344,
          -0.11070798747704698,
          -0.1988902890270822,
          -0.11014532560765214,
          0.04298091424342822,
          -0.1431703446517158,
          0.33811938215016085,
          -0.12281718193063167,
          -0.060100653496189434,
          -0.1846762265927472,
          -0.18248562312513392,
          0.05537652259564675,
          -0.19655020537667617,
          -0.013952590935882475,
          -0.10955872271778141,
          -0.0871055453496003,
          -0.07726669276085775,
          0.12396844786066295,
          -0.023910028237819087,
          0.36409207312491243,
          -0.08752140865184137,
          0.03079095290169298,
          0.00404837746652868,
          -0.15172633099499508,
          -0.2202193128756277,
          -0.06066089033608669,
          -0.21073083989183902,
          0.11011605438333695,
          -0.08672691927448556,
          -0.4674596232743194,
          -0.14058805265881363,
          -0.04092042962539678,
          -0.03711930540918166,
          0.019827825913512207,
          -0.06597590642223936,
          -0.06699329606702131,
          -0.4258654847358785,
          -0.1424645635810622,
          -0.13994188818441594,
          -0.20376588962903494,
          -0.321132072748065,
          -0.28537926918851286,
          0.11626018726970269,
          -0.18153562234847595,
          0.12432517465783657,
          -0.027074200445345562,
          0.21766906136150607
         ],
         "yaxis": "y"
        },
        {
         "customdata": [
          [
           "All Other Brewers",
           "ENGLAND & WALES"
          ],
          [
           "Brewdog Punk IPA",
           "ENGLAND & WALES"
          ],
          [
           "Worthington's",
           "ENGLAND & WALES"
          ],
          [
           "Old Speckled Hen",
           "ENGLAND & WALES"
          ],
          [
           "Sharps Atlantic Pale Ale",
           "ENGLAND & WALES"
          ],
          [
           "Tetleys",
           "ENGLAND & WALES"
          ],
          [
           "Greene King IPA",
           "ENGLAND & WALES"
          ],
          [
           "All Other Marstons",
           "ENGLAND & WALES"
          ],
          [
           "Beavertown Gamma Ray APA",
           "ENGLAND & WALES"
          ],
          [
           "Erdinger Heffe Weissbier",
           "ENGLAND & WALES"
          ],
          [
           "Camden Town Pale Ale",
           "ENGLAND & WALES"
          ],
          [
           "Greene King Abbot Ale",
           "ENGLAND & WALES"
          ],
          [
           "Fullers London Pride",
           "ENGLAND & WALES"
          ],
          [
           "Goose Island IPA",
           "ENGLAND & WALES"
          ],
          [
           "All Other Marstons",
           "ENGLAND & WALES"
          ],
          [
           "Tim Taylor Landlord",
           "ENGLAND & WALES"
          ],
          [
           "Tribute Ale",
           "ENGLAND & WALES"
          ],
          [
           "All Other Greene King",
           "ENGLAND & WALES"
          ],
          [
           "Greene King Ice Breaker",
           "ENGLAND & WALES"
          ],
          [
           "Fullers London Pride",
           "ENGLAND & WALES"
          ],
          [
           "All Other Heineken UK",
           "ENGLAND & WALES"
          ],
          [
           "Wychwood Hobgoblin Ruby",
           "ENGLAND & WALES"
          ],
          [
           "Marstons Shipyard American Pale Ale",
           "ENGLAND & WALES"
          ],
          [
           "Boddingtons",
           "ENGLAND & WALES"
          ],
          [
           "Belhaven Best",
           "SCOTLAND"
          ],
          [
           "Meantime Pale Ale",
           "ENGLAND & WALES"
          ],
          [
           "Adnams Ghost Ship",
           "ENGLAND & WALES"
          ],
          [
           "Marstons Pedigree",
           "ENGLAND & WALES"
          ],
          [
           "Wainwright",
           "ENGLAND & WALES"
          ],
          [
           "Manns Brown Ale",
           "ENGLAND & WALES"
          ],
          [
           "All Other Brewers",
           "SCOTLAND"
          ],
          [
           "Caledonia Best",
           "SCOTLAND"
          ],
          [
           "Brewdog Elvis Juice",
           "ENGLAND & WALES"
          ],
          [
           "Maltsmiths American Style IPA",
           "ENGLAND & WALES"
          ],
          [
           "All Other Brewdog",
           "ENGLAND & WALES"
          ],
          [
           "Courage Light Ale",
           "ENGLAND & WALES"
          ],
          [
           "Goose Island Midway IPA",
           "ENGLAND & WALES"
          ],
          [
           "Lagunitas IPA",
           "ENGLAND & WALES"
          ],
          [
           "All Other Brewers",
           "ENGLAND & WALES"
          ],
          [
           "Newcastle Brown Ale",
           "SCOTLAND"
          ],
          [
           "All Other Molson Coors",
           "ENGLAND & WALES"
          ],
          [
           "All Other Greene King",
           "ENGLAND & WALES"
          ],
          [
           "Spitfire",
           "ENGLAND & WALES"
          ],
          [
           "Caffreys",
           "ENGLAND & WALES"
          ],
          [
           "Brewdog Punk IPA",
           "SCOTLAND"
          ],
          [
           "Black Sheep Best Bitter",
           "ENGLAND & WALES"
          ],
          [
           "Greene King East Coast IPA",
           "ENGLAND & WALES"
          ],
          [
           "Black Sheep Ale",
           "ENGLAND & WALES"
          ],
          [
           "Brewdog Dead Pony Club",
           "ENGLAND & WALES"
          ],
          [
           "All Other Budweiser Brewing Group UK&I",
           "ENGLAND & WALES"
          ],
          [
           "Wychwood Hobgoblin Gold",
           "ENGLAND & WALES"
          ],
          [
           "Any Other Packaged Ale/Stout",
           "ENGLAND & WALES"
          ],
          [
           "John Smith's",
           "SCOTLAND"
          ],
          [
           "Eagle Brewery Bombardier Amber Beer",
           "ENGLAND & WALES"
          ],
          [
           "All Other Adnams",
           "ENGLAND & WALES"
          ],
          [
           "Theakstons Best",
           "ENGLAND & WALES"
          ],
          [
           "Brewdog Hazy Jane",
           "ENGLAND & WALES"
          ],
          [
           "Old Speckled Hen Gluten Free",
           "ENGLAND & WALES"
          ],
          [
           "All other Charles Wells",
           "ENGLAND & WALES"
          ],
          [
           "All Other Carlsberg UK",
           "ENGLAND & WALES"
          ],
          [
           "Brewdog Vagabond Pale Ale",
           "ENGLAND & WALES"
          ],
          [
           "Tiny Rebel Clwb Tropicana",
           "ENGLAND & WALES"
          ],
          [
           "Fullers Organic Honeydew",
           "ENGLAND & WALES"
          ],
          [
           "Lagunitas Day Time",
           "ENGLAND & WALES"
          ],
          [
           "Banks's Bitter",
           "ENGLAND & WALES"
          ],
          [
           "All Other Brewers",
           "SCOTLAND"
          ],
          [
           "Duvel",
           "ENGLAND & WALES"
          ],
          [
           "Youngs Light Ale",
           "ENGLAND & WALES"
          ],
          [
           "Wadworths 6X",
           "ENGLAND & WALES"
          ],
          [
           "St Austell Proper Job",
           "ENGLAND & WALES"
          ],
          [
           "Marstons Resolution",
           "ENGLAND & WALES"
          ],
          [
           "All Other Black Sheep",
           "ENGLAND & WALES"
          ],
          [
           "Hoegaarden",
           "ENGLAND & WALES"
          ]
         ],
         "hovertemplate": "Type Of Alcohol=Ale<br>%ROS Change Vs LY=%{x}<br>%Stockists Change Vs LY=%{y}<br>Brand=%{customdata[0]}<br>Country=%{customdata[1]}<extra></extra>",
         "legendgroup": "Ale",
         "marker": {
          "color": "#EF553B",
          "size": 15,
          "symbol": "circle"
         },
         "mode": "markers",
         "name": "Ale",
         "orientation": "v",
         "showlegend": true,
         "type": "scatter",
         "x": [
          0.01759231781018303,
          -0.12532206521187955,
          0.005164946646953716,
          0.016018547069669306,
          -0.016098681350036288,
          -0.11062544156242424,
          0.04871464129553105,
          -0.28262913694755926,
          -0.17721889055652884,
          0.09945946960983437,
          0.005879047432175548,
          -0.08010110918980029,
          -0.06407695831706851,
          0.002401697391112528,
          -0.02861772543051185,
          0.01502146451537471,
          -0.044966086173526286,
          0.19649491751367473,
          0.035113149212292985,
          0.1116849142550703,
          0.21271572059130028,
          0.04252168951084351,
          -0.08657809301690704,
          -0.06316609729095272,
          0.05519859746231252,
          -0.13500493954616316,
          0.020812658239109477,
          0.10818597486462049,
          0.06263748006863994,
          -0.2034022264111081,
          0.04268214237337501,
          0.20365943897465905,
          -0.0712821125071472,
          -0.41609581857781824,
          -0.03744792274197409,
          -0.09240486912705502,
          -0.023054287554186998,
          -0.09471649810659467,
          -0.1511945966917907,
          0.23477473333861612,
          0.031149303792170856,
          0.18265322324495747,
          0.2268689401729703,
          0.24480225909427894,
          -0.36928995249949226,
          0.046913575992076996,
          0.39086707747540234,
          0.10160778980671406,
          -0.1798346470292707,
          -0.19469484006217605,
          -0.06878326263233711,
          0.27140000839901507,
          -0.06295037182699884,
          -0.236159900475632,
          -0.1651411141233299,
          0.30457873166941124,
          0.10901090226574225,
          0.21682799265758568,
          0.12983222059049357,
          -0.23711912904180094,
          0.12989064127505168,
          0.030478541000954932,
          -0.17166585919095786,
          0.10575482057041899,
          0.0040058716826144695,
          0.09086357745257818,
          0.051039690867808477,
          0.12307653742119007,
          0.026187369289022905,
          -0.22729062510594966,
          0.2533697078317608,
          0.1313461779697984,
          -0.1521128400400884
         ],
         "xaxis": "x",
         "y": [
          -0.0618676836307883,
          -0.11300615121104086,
          -0.043801041377470464,
          -0.07746510289805864,
          -0.06353080770773309,
          -0.1446902306362836,
          -0.14768757250486222,
          0.147558751243204,
          -0.0814444844251273,
          -0.07179226541872792,
          -0.06578637195791637,
          0.0059627543674332885,
          -0.1009597110253954,
          -0.21906279227261177,
          -0.00429942342125866,
          -0.0844664123493206,
          -0.10419970391198775,
          0.0969106100590608,
          -0.06478721285396082,
          -0.061320733799890316,
          0.018860789239823053,
          -0.13487168376727773,
          -0.07311969676987608,
          -0.1713728943658105,
          -0.14304282694126896,
          -0.22401092971121708,
          0.16746102475684582,
          -0.162253011618217,
          -0.10263154104865257,
          -0.15801376854883298,
          -0.1017592398559324,
          -0.12296012767615508,
          -0.1360819602212695,
          -0.22289729104032513,
          -0.04920429945292982,
          -0.12670443995033395,
          -0.22603711778415794,
          -0.2453744431583092,
          -0.0529531087383956,
          -0.10697345550366141,
          0.03723885704330993,
          0.02168542970859907,
          -0.14633109017332008,
          -0.11314033225322348,
          -0.1200729431431819,
          -0.1608126830398944,
          -0.15962510616582626,
          -0.22540039622955615,
          -0.26621704217746534,
          -0.2078619628248477,
          -0.03487352623955882,
          0.08482565898638172,
          -0.1484405940466427,
          -0.20958536384535634,
          -0.13478367166547933,
          -0.2235121603978479,
          -0.1553792258894992,
          0.044801918424079296,
          -0.19433555677147848,
          -0.2257756902181313,
          -0.2759221371263312,
          -0.1829064746280217,
          -0.08095857235244956,
          -0.20009866986526775,
          -0.11398809748382287,
          -0.046158708489213524,
          -0.32382475286778306,
          -0.24575657837817363,
          -0.11690137831741301,
          -0.20437395865847685,
          -0.17236293019140456,
          -0.12364610823652585,
          -0.2456144810360938
         ],
         "yaxis": "y"
        },
        {
         "customdata": [
          [
           "All Other Brewers",
           "ENGLAND & WALES"
          ],
          [
           "Peroni Nastro Azzurro Gluten Free",
           "ENGLAND & WALES"
          ],
          [
           "Holsten Pils",
           "ENGLAND & WALES"
          ],
          [
           "Becks 4%",
           "ENGLAND & WALES"
          ],
          [
           "Staropramen",
           "ENGLAND & WALES"
          ],
          [
           "Blue Moon",
           "ENGLAND & WALES"
          ],
          [
           "Camden Hells Lager",
           "ENGLAND & WALES"
          ],
          [
           "Corona Extra",
           "SCOTLAND"
          ],
          [
           "Budweiser",
           "SCOTLAND"
          ],
          [
           "Peroni Nastro Azzurro",
           "SCOTLAND"
          ],
          [
           "Cobra",
           "ENGLAND & WALES"
          ],
          [
           "Estrella Daura",
           "ENGLAND & WALES"
          ],
          [
           "Brooklyn Lager",
           "ENGLAND & WALES"
          ],
          [
           "Leffe Blonde",
           "ENGLAND & WALES"
          ],
          [
           "Bud Light",
           "ENGLAND & WALES"
          ],
          [
           "Red Stripe",
           "ENGLAND & WALES"
          ],
          [
           "Carlsberg Export",
           "ENGLAND & WALES"
          ],
          [
           "Pravha",
           "ENGLAND & WALES"
          ],
          [
           "Tiger",
           "ENGLAND & WALES"
          ],
          [
           "Estrella Galicia",
           "ENGLAND & WALES"
          ],
          [
           "Bud Budvar",
           "ENGLAND & WALES"
          ],
          [
           "Birra Poretti",
           "ENGLAND & WALES"
          ],
          [
           "Birra Moretti",
           "SCOTLAND"
          ],
          [
           "All Other Heineken UK",
           "ENGLAND & WALES"
          ],
          [
           "Kingfisher",
           "ENGLAND & WALES"
          ],
          [
           "Miller Genuine Draft",
           "SCOTLAND"
          ],
          [
           "Stella Artois",
           "SCOTLAND"
          ],
          [
           "Modelo Especial",
           "ENGLAND & WALES"
          ],
          [
           "Becks",
           "SCOTLAND"
          ],
          [
           "All Other Brewers",
           "ENGLAND & WALES"
          ],
          [
           "Singha",
           "ENGLAND & WALES"
          ],
          [
           "Desperados",
           "SCOTLAND"
          ],
          [
           "Coors Light 4.0%",
           "SCOTLAND"
          ],
          [
           "All Other Heineken UK",
           "ENGLAND & WALES"
          ],
          [
           "All Other Carlsberg UK",
           "ENGLAND & WALES"
          ],
          [
           "Tsingtao",
           "ENGLAND & WALES"
          ],
          [
           "Jubel Alpine Beer Cut With Peach",
           "ENGLAND & WALES"
          ],
          [
           "All Other Budweiser Brewing Group UK&I",
           "ENGLAND & WALES"
          ],
          [
           "Carling",
           "SCOTLAND"
          ],
          [
           "Heineken",
           "SCOTLAND"
          ],
          [
           "Sharps Offshore Pilsner",
           "ENGLAND & WALES"
          ],
          [
           "Peroni Gran Riserva",
           "ENGLAND & WALES"
          ],
          [
           "Peroni Red",
           "ENGLAND & WALES"
          ],
          [
           "Any Other Draught Lager <4.1%",
           "ENGLAND & WALES"
          ],
          [
           "Mahou 5 Estrellas",
           "ENGLAND & WALES"
          ],
          [
           "All Other Brewers",
           "SCOTLAND"
          ],
          [
           "Sol",
           "SCOTLAND"
          ],
          [
           "Menabrea Blonde",
           "ENGLAND & WALES"
          ],
          [
           "Tyskie",
           "ENGLAND & WALES"
          ],
          [
           "Heverlee Belgian Lager",
           "SCOTLAND"
          ],
          [
           "Efes Pils",
           "ENGLAND & WALES"
          ],
          [
           "Peroni Nastro Azzurro Gluten Free",
           "SCOTLAND"
          ],
          [
           "Menabrea Blonde",
           "SCOTLAND"
          ],
          [
           "Pacifico Clara",
           "ENGLAND & WALES"
          ],
          [
           "Innis & Gunn Lager",
           "SCOTLAND"
          ],
          [
           "Amigos Beer",
           "ENGLAND & WALES"
          ],
          [
           "Chapel Down Curious Brew",
           "ENGLAND & WALES"
          ],
          [
           "All Other Greene King",
           "ENGLAND & WALES"
          ],
          [
           "Maltsmiths Bavarian Style Pils",
           "ENGLAND & WALES"
          ],
          [
           "Estrella Damm",
           "SCOTLAND"
          ],
          [
           "Skinny Lager",
           "ENGLAND & WALES"
          ],
          [
           "San Miguel Gluten Free",
           "ENGLAND & WALES"
          ]
         ],
         "hovertemplate": "Type Of Alcohol=Lager<br>%ROS Change Vs LY=%{x}<br>%Stockists Change Vs LY=%{y}<br>Brand=%{customdata[0]}<br>Country=%{customdata[1]}<extra></extra>",
         "legendgroup": "Lager",
         "marker": {
          "color": "#00cc96",
          "size": 15,
          "symbol": "circle"
         },
         "mode": "markers",
         "name": "Lager",
         "orientation": "v",
         "showlegend": true,
         "type": "scatter",
         "x": [
          -0.09311285727543066,
          0.006844931951512319,
          0.23151132825104,
          -0.15596056813909162,
          0.05394228747315985,
          0.058981841298365874,
          0.1584533078983616,
          0.1415776452083005,
          -0.030249711220876517,
          -0.0009028480084516129,
          0.13033755361290575,
          0.013784396165660946,
          -0.1258758411948258,
          0.04414964786700723,
          -0.08855251272970105,
          -0.013265803755584725,
          -0.21473738999413264,
          0.05216658762302101,
          0.025864794279563764,
          0.037558126842815315,
          0.005758458440769483,
          0.10709480013431415,
          0.018872274436895604,
          -0.35876760882126724,
          -0.031553224714253536,
          -0.006147762776775455,
          0.10144657270953032,
          -0.0355234797277744,
          0.09510321582284156,
          -0.21432353811878965,
          0.06066545065153565,
          0.012242063019259895,
          0.07456087184184368,
          -0.05807850126461472,
          0.3693387349414502,
          -0.09286819499741156,
          0.1064383805752991,
          0.906539112919308,
          -0.05440887578733305,
          -0.043147787155509446,
          -0.12466073683194662,
          -0.3223609608321529,
          -0.13718864646178475,
          -0.13008550486650028,
          0.7665346132975656,
          0.09925064099218606,
          -0.027804888113657618,
          0.37923071353803434,
          0.0059900726085975855,
          0.14900934539948046,
          0.39651516554159477,
          -0.03507415457063512,
          0.29350150928000734,
          -0.09393946231311708,
          -0.0018063620904750805,
          -0.18442434281238154,
          0.047035558784372385,
          0.1839272771062114,
          0.29827951679048625,
          -0.22140490872482216,
          -0.08307173730100473,
          0.06072619597800362
         ],
         "xaxis": "x",
         "y": [
          -0.16886041550147543,
          -0.05389324091007969,
          -0.12673653954853148,
          -0.07211209628297129,
          -0.13764750178902418,
          -0.15219501062171872,
          -0.10484096346321053,
          -0.06895266674749752,
          -0.10742161361871519,
          -0.10724421619325318,
          -0.14349294108317096,
          0.05807456085248818,
          -0.20579744038201453,
          -0.11045256064644532,
          -0.14632085178371915,
          -0.09830314875488383,
          -0.058249389602553395,
          -0.034594698815072385,
          -0.1842325748919592,
          -0.0018117456487049936,
          -0.21471415816198008,
          0.23292316380426173,
          0.14311063922029066,
          0.1206979460737599,
          -0.151813770167395,
          -0.13080227725188123,
          -0.1648768873492723,
          -0.07798513126735108,
          -0.09660895724219672,
          -0.11106733628952581,
          -0.1305976415829293,
          -0.09173018718808022,
          -0.12804192265520675,
          -0.07838629713406936,
          0.03675993364757808,
          -0.13939695793624945,
          0.4718303166263078,
          -0.12697170704574107,
          -0.05620411683381109,
          -0.03770878125782386,
          -0.16922874625613496,
          -0.11355412288278845,
          -0.11089359284113556,
          0.05322044449851376,
          -0.04731853319194243,
          -0.19616523439347297,
          0.01670696822058897,
          -0.16291699236454013,
          -0.19070160789485827,
          -0.09343992492858233,
          -0.22201817131298132,
          -0.12125723819322866,
          -0.10262404989275817,
          -0.14570828648323625,
          -0.15030223884919638,
          -0.09575642545468059,
          -0.1924588505814008,
          0.24759737211326766,
          -0.0718833345777406,
          -0.09595267126050634,
          -0.21874934399912657,
          -0.15965319331385167
         ],
         "yaxis": "y"
        },
        {
         "customdata": [
          [
           "All Other Asahi UK",
           "ENGLAND & WALES"
          ],
          [
           "San Miguel",
           "ENGLAND & WALES"
          ],
          [
           "Erdinger Alcoholfrei",
           "ENGLAND & WALES"
          ],
          [
           "Adnams Ghost Ship Alcohol Free",
           "ENGLAND & WALES"
          ],
          [
           "All Other Brewers",
           "ENGLAND & WALES"
          ],
          [
           "Brewdog Punk AF",
           "ENGLAND & WALES"
          ],
          [
           "Becks LA",
           "SCOTLAND"
          ],
          [
           "Heineken 0.0",
           "SCOTLAND"
          ],
          [
           "Old Speckled Hen Low Alcohol",
           "ENGLAND & WALES"
          ],
          [
           "Lucky Saint Unfiltered Alcohol Free Lager",
           "ENGLAND & WALES"
          ],
          [
           "Brewdog Nanny State",
           "ENGLAND & WALES"
          ],
          [
           "Brooklyn Special Effects",
           "ENGLAND & WALES"
          ],
          [
           "Birra Moretti",
           "ENGLAND & WALES"
          ],
          [
           "All Other Budweiser Brewing Group UK&I",
           "ENGLAND & WALES"
          ],
          [
           "Estrella Galicia Alcohol Free",
           "ENGLAND & WALES"
          ],
          [
           "All Other Marstons",
           "ENGLAND & WALES"
          ],
          [
           "Cobra Zero 0.0%",
           "ENGLAND & WALES"
          ],
          [
           "Erdinger Alcoholfrei",
           "SCOTLAND"
          ],
          [
           "Carlsberg 0.0",
           "ENGLAND & WALES"
          ],
          [
           "All Other SA Damm",
           "ENGLAND & WALES"
          ]
         ],
         "hovertemplate": "Type Of Alcohol=NAB/LAB<br>%ROS Change Vs LY=%{x}<br>%Stockists Change Vs LY=%{y}<br>Brand=%{customdata[0]}<br>Country=%{customdata[1]}<extra></extra>",
         "legendgroup": "NAB/LAB",
         "marker": {
          "color": "#ab63fa",
          "size": 15,
          "symbol": "circle"
         },
         "mode": "markers",
         "name": "NAB/LAB",
         "orientation": "v",
         "showlegend": true,
         "type": "scatter",
         "x": [
          0.40431680042844137,
          0.20528075864745263,
          0.20460016928825306,
          0.43039120577000967,
          0.21968490545476121,
          -0.15724319088328853,
          -0.0018516358582643243,
          0.19078922735731588,
          0.3839223624344684,
          0.09081302267486313,
          -0.04377844519199201,
          0.04713004926886087,
          -0.07065331201063857,
          0.407629414268123,
          0.5873524917600258,
          0.22389882068136058,
          -0.3275071662277056,
          0.16134838355005748,
          0.3258052303989432,
          0.20372714931517932
         ],
         "xaxis": "x",
         "y": [
          0.2794417491153372,
          -0.03497983457517265,
          0.0592441031706666,
          0.021421194267679827,
          0.3037052282795832,
          -0.04270870088086389,
          -0.08221263186099449,
          0.08328703807451822,
          0.007754274621898298,
          0.4732415110507018,
          -0.1398704312751082,
          -0.1453220361611438,
          0.8556203423008261,
          0.8798072395546362,
          0.12936899714149822,
          0.20544393636735306,
          -0.11022311523791549,
          0.0354221570547737,
          -0.16481542816105899,
          -0.11914618561920406
         ],
         "yaxis": "y"
        },
        {
         "customdata": [
          [
           "VK",
           "ENGLAND & WALES"
          ],
          [
           "WKD Iron Brew",
           "ENGLAND & WALES"
          ],
          [
           "Hooch",
           "ENGLAND & WALES"
          ],
          [
           "WKD Pink Gin",
           "ENGLAND & WALES"
          ],
          [
           "WKD Blue",
           "SCOTLAND"
          ],
          [
           "All Other Suppliers",
           "ENGLAND & WALES"
          ],
          [
           "Smirnoff Ice Red",
           "SCOTLAND"
          ],
          [
           "All Other Brewers",
           "ENGLAND & WALES"
          ],
          [
           "All Other Diageo GB",
           "ENGLAND & WALES"
          ],
          [
           "WKD Berry",
           "ENGLAND & WALES"
          ],
          [
           "All Other Beverage Brands",
           "ENGLAND & WALES"
          ],
          [
           "Crabbies",
           "SCOTLAND"
          ],
          [
           "All Other Bacardi Martini Ltd",
           "ENGLAND & WALES"
          ],
          [
           "Tails Pornstar Martini",
           "ENGLAND & WALES"
          ],
          [
           "VK",
           "SCOTLAND"
          ]
         ],
         "hovertemplate": "Type Of Alcohol=RTD's<br>%ROS Change Vs LY=%{x}<br>%Stockists Change Vs LY=%{y}<br>Brand=%{customdata[0]}<br>Country=%{customdata[1]}<extra></extra>",
         "legendgroup": "RTD's",
         "marker": {
          "color": "#FFA15A",
          "size": 15,
          "symbol": "circle"
         },
         "mode": "markers",
         "name": "RTD's",
         "orientation": "v",
         "showlegend": true,
         "type": "scatter",
         "x": [
          -0.15444465281465372,
          0.11117153343708332,
          -0.06731035999669353,
          0.011545196666990037,
          -0.12322566153371772,
          0.2694034473935632,
          0.04934464310501664,
          -0.26467293377168594,
          -0.14163938102168433,
          0.2016185830895621,
          -0.20362043327096963,
          0.03281820545550964,
          -0.06147791239688243,
          -0.5638785303402969,
          0.1613299336312527
         ],
         "xaxis": "x",
         "y": [
          -0.03328432294290111,
          -0.08526662277760222,
          -0.1162167314488394,
          -0.15473429456503282,
          -0.06828398877794477,
          -0.02245908534974517,
          -0.03177509649871709,
          0.9945651576416544,
          -0.13684936116420388,
          0.1886008261340772,
          -0.054364680253925865,
          0.05948321249641134,
          -0.2337129481400854,
          -0.42341156619740355,
          -0.03521513839352465
         ],
         "yaxis": "y"
        },
        {
         "customdata": [
          [
           "Guinness Surger",
           "ENGLAND & WALES"
          ],
          [
           "Guinness Original",
           "ENGLAND & WALES"
          ],
          [
           "Guinness",
           "SCOTLAND"
          ],
          [
           "All Other Brewers",
           "ENGLAND & WALES"
          ],
          [
           "Guinness Surger",
           "SCOTLAND"
          ]
         ],
         "hovertemplate": "Type Of Alcohol=Stout<br>%ROS Change Vs LY=%{x}<br>%Stockists Change Vs LY=%{y}<br>Brand=%{customdata[0]}<br>Country=%{customdata[1]}<extra></extra>",
         "legendgroup": "Stout",
         "marker": {
          "color": "#19d3f3",
          "size": 15,
          "symbol": "circle"
         },
         "mode": "markers",
         "name": "Stout",
         "orientation": "v",
         "showlegend": true,
         "type": "scatter",
         "x": [
          -0.0069128225679771045,
          -0.04463784550876644,
          0.3263205728396495,
          0.24955128500629303,
          0.03672955743346938
         ],
         "xaxis": "x",
         "y": [
          -0.1477850604480406,
          -0.05077509653728731,
          -0.03524919268669541,
          -0.14445726560689606,
          -0.10917422222653264
         ],
         "yaxis": "y"
        }
       ],
       "layout": {
        "legend": {
         "title": {
          "text": "Type Of Alcohol"
         },
         "tracegroupgap": 0
        },
        "margin": {
         "t": 60
        },
        "template": {
         "data": {
          "bar": [
           {
            "error_x": {
             "color": "#2a3f5f"
            },
            "error_y": {
             "color": "#2a3f5f"
            },
            "marker": {
             "line": {
              "color": "#E5ECF6",
              "width": 0.5
             },
             "pattern": {
              "fillmode": "overlay",
              "size": 10,
              "solidity": 0.2
             }
            },
            "type": "bar"
           }
          ],
          "barpolar": [
           {
            "marker": {
             "line": {
              "color": "#E5ECF6",
              "width": 0.5
             },
             "pattern": {
              "fillmode": "overlay",
              "size": 10,
              "solidity": 0.2
             }
            },
            "type": "barpolar"
           }
          ],
          "carpet": [
           {
            "aaxis": {
             "endlinecolor": "#2a3f5f",
             "gridcolor": "white",
             "linecolor": "white",
             "minorgridcolor": "white",
             "startlinecolor": "#2a3f5f"
            },
            "baxis": {
             "endlinecolor": "#2a3f5f",
             "gridcolor": "white",
             "linecolor": "white",
             "minorgridcolor": "white",
             "startlinecolor": "#2a3f5f"
            },
            "type": "carpet"
           }
          ],
          "choropleth": [
           {
            "colorbar": {
             "outlinewidth": 0,
             "ticks": ""
            },
            "type": "choropleth"
           }
          ],
          "contour": [
           {
            "colorbar": {
             "outlinewidth": 0,
             "ticks": ""
            },
            "colorscale": [
             [
              0,
              "#0d0887"
             ],
             [
              0.1111111111111111,
              "#46039f"
             ],
             [
              0.2222222222222222,
              "#7201a8"
             ],
             [
              0.3333333333333333,
              "#9c179e"
             ],
             [
              0.4444444444444444,
              "#bd3786"
             ],
             [
              0.5555555555555556,
              "#d8576b"
             ],
             [
              0.6666666666666666,
              "#ed7953"
             ],
             [
              0.7777777777777778,
              "#fb9f3a"
             ],
             [
              0.8888888888888888,
              "#fdca26"
             ],
             [
              1,
              "#f0f921"
             ]
            ],
            "type": "contour"
           }
          ],
          "contourcarpet": [
           {
            "colorbar": {
             "outlinewidth": 0,
             "ticks": ""
            },
            "type": "contourcarpet"
           }
          ],
          "heatmap": [
           {
            "colorbar": {
             "outlinewidth": 0,
             "ticks": ""
            },
            "colorscale": [
             [
              0,
              "#0d0887"
             ],
             [
              0.1111111111111111,
              "#46039f"
             ],
             [
              0.2222222222222222,
              "#7201a8"
             ],
             [
              0.3333333333333333,
              "#9c179e"
             ],
             [
              0.4444444444444444,
              "#bd3786"
             ],
             [
              0.5555555555555556,
              "#d8576b"
             ],
             [
              0.6666666666666666,
              "#ed7953"
             ],
             [
              0.7777777777777778,
              "#fb9f3a"
             ],
             [
              0.8888888888888888,
              "#fdca26"
             ],
             [
              1,
              "#f0f921"
             ]
            ],
            "type": "heatmap"
           }
          ],
          "heatmapgl": [
           {
            "colorbar": {
             "outlinewidth": 0,
             "ticks": ""
            },
            "colorscale": [
             [
              0,
              "#0d0887"
             ],
             [
              0.1111111111111111,
              "#46039f"
             ],
             [
              0.2222222222222222,
              "#7201a8"
             ],
             [
              0.3333333333333333,
              "#9c179e"
             ],
             [
              0.4444444444444444,
              "#bd3786"
             ],
             [
              0.5555555555555556,
              "#d8576b"
             ],
             [
              0.6666666666666666,
              "#ed7953"
             ],
             [
              0.7777777777777778,
              "#fb9f3a"
             ],
             [
              0.8888888888888888,
              "#fdca26"
             ],
             [
              1,
              "#f0f921"
             ]
            ],
            "type": "heatmapgl"
           }
          ],
          "histogram": [
           {
            "marker": {
             "pattern": {
              "fillmode": "overlay",
              "size": 10,
              "solidity": 0.2
             }
            },
            "type": "histogram"
           }
          ],
          "histogram2d": [
           {
            "colorbar": {
             "outlinewidth": 0,
             "ticks": ""
            },
            "colorscale": [
             [
              0,
              "#0d0887"
             ],
             [
              0.1111111111111111,
              "#46039f"
             ],
             [
              0.2222222222222222,
              "#7201a8"
             ],
             [
              0.3333333333333333,
              "#9c179e"
             ],
             [
              0.4444444444444444,
              "#bd3786"
             ],
             [
              0.5555555555555556,
              "#d8576b"
             ],
             [
              0.6666666666666666,
              "#ed7953"
             ],
             [
              0.7777777777777778,
              "#fb9f3a"
             ],
             [
              0.8888888888888888,
              "#fdca26"
             ],
             [
              1,
              "#f0f921"
             ]
            ],
            "type": "histogram2d"
           }
          ],
          "histogram2dcontour": [
           {
            "colorbar": {
             "outlinewidth": 0,
             "ticks": ""
            },
            "colorscale": [
             [
              0,
              "#0d0887"
             ],
             [
              0.1111111111111111,
              "#46039f"
             ],
             [
              0.2222222222222222,
              "#7201a8"
             ],
             [
              0.3333333333333333,
              "#9c179e"
             ],
             [
              0.4444444444444444,
              "#bd3786"
             ],
             [
              0.5555555555555556,
              "#d8576b"
             ],
             [
              0.6666666666666666,
              "#ed7953"
             ],
             [
              0.7777777777777778,
              "#fb9f3a"
             ],
             [
              0.8888888888888888,
              "#fdca26"
             ],
             [
              1,
              "#f0f921"
             ]
            ],
            "type": "histogram2dcontour"
           }
          ],
          "mesh3d": [
           {
            "colorbar": {
             "outlinewidth": 0,
             "ticks": ""
            },
            "type": "mesh3d"
           }
          ],
          "parcoords": [
           {
            "line": {
             "colorbar": {
              "outlinewidth": 0,
              "ticks": ""
             }
            },
            "type": "parcoords"
           }
          ],
          "pie": [
           {
            "automargin": true,
            "type": "pie"
           }
          ],
          "scatter": [
           {
            "fillpattern": {
             "fillmode": "overlay",
             "size": 10,
             "solidity": 0.2
            },
            "type": "scatter"
           }
          ],
          "scatter3d": [
           {
            "line": {
             "colorbar": {
              "outlinewidth": 0,
              "ticks": ""
             }
            },
            "marker": {
             "colorbar": {
              "outlinewidth": 0,
              "ticks": ""
             }
            },
            "type": "scatter3d"
           }
          ],
          "scattercarpet": [
           {
            "marker": {
             "colorbar": {
              "outlinewidth": 0,
              "ticks": ""
             }
            },
            "type": "scattercarpet"
           }
          ],
          "scattergeo": [
           {
            "marker": {
             "colorbar": {
              "outlinewidth": 0,
              "ticks": ""
             }
            },
            "type": "scattergeo"
           }
          ],
          "scattergl": [
           {
            "marker": {
             "colorbar": {
              "outlinewidth": 0,
              "ticks": ""
             }
            },
            "type": "scattergl"
           }
          ],
          "scattermapbox": [
           {
            "marker": {
             "colorbar": {
              "outlinewidth": 0,
              "ticks": ""
             }
            },
            "type": "scattermapbox"
           }
          ],
          "scatterpolar": [
           {
            "marker": {
             "colorbar": {
              "outlinewidth": 0,
              "ticks": ""
             }
            },
            "type": "scatterpolar"
           }
          ],
          "scatterpolargl": [
           {
            "marker": {
             "colorbar": {
              "outlinewidth": 0,
              "ticks": ""
             }
            },
            "type": "scatterpolargl"
           }
          ],
          "scatterternary": [
           {
            "marker": {
             "colorbar": {
              "outlinewidth": 0,
              "ticks": ""
             }
            },
            "type": "scatterternary"
           }
          ],
          "surface": [
           {
            "colorbar": {
             "outlinewidth": 0,
             "ticks": ""
            },
            "colorscale": [
             [
              0,
              "#0d0887"
             ],
             [
              0.1111111111111111,
              "#46039f"
             ],
             [
              0.2222222222222222,
              "#7201a8"
             ],
             [
              0.3333333333333333,
              "#9c179e"
             ],
             [
              0.4444444444444444,
              "#bd3786"
             ],
             [
              0.5555555555555556,
              "#d8576b"
             ],
             [
              0.6666666666666666,
              "#ed7953"
             ],
             [
              0.7777777777777778,
              "#fb9f3a"
             ],
             [
              0.8888888888888888,
              "#fdca26"
             ],
             [
              1,
              "#f0f921"
             ]
            ],
            "type": "surface"
           }
          ],
          "table": [
           {
            "cells": {
             "fill": {
              "color": "#EBF0F8"
             },
             "line": {
              "color": "white"
             }
            },
            "header": {
             "fill": {
              "color": "#C8D4E3"
             },
             "line": {
              "color": "white"
             }
            },
            "type": "table"
           }
          ]
         },
         "layout": {
          "annotationdefaults": {
           "arrowcolor": "#2a3f5f",
           "arrowhead": 0,
           "arrowwidth": 1
          },
          "autotypenumbers": "strict",
          "coloraxis": {
           "colorbar": {
            "outlinewidth": 0,
            "ticks": ""
           }
          },
          "colorscale": {
           "diverging": [
            [
             0,
             "#8e0152"
            ],
            [
             0.1,
             "#c51b7d"
            ],
            [
             0.2,
             "#de77ae"
            ],
            [
             0.3,
             "#f1b6da"
            ],
            [
             0.4,
             "#fde0ef"
            ],
            [
             0.5,
             "#f7f7f7"
            ],
            [
             0.6,
             "#e6f5d0"
            ],
            [
             0.7,
             "#b8e186"
            ],
            [
             0.8,
             "#7fbc41"
            ],
            [
             0.9,
             "#4d9221"
            ],
            [
             1,
             "#276419"
            ]
           ],
           "sequential": [
            [
             0,
             "#0d0887"
            ],
            [
             0.1111111111111111,
             "#46039f"
            ],
            [
             0.2222222222222222,
             "#7201a8"
            ],
            [
             0.3333333333333333,
             "#9c179e"
            ],
            [
             0.4444444444444444,
             "#bd3786"
            ],
            [
             0.5555555555555556,
             "#d8576b"
            ],
            [
             0.6666666666666666,
             "#ed7953"
            ],
            [
             0.7777777777777778,
             "#fb9f3a"
            ],
            [
             0.8888888888888888,
             "#fdca26"
            ],
            [
             1,
             "#f0f921"
            ]
           ],
           "sequentialminus": [
            [
             0,
             "#0d0887"
            ],
            [
             0.1111111111111111,
             "#46039f"
            ],
            [
             0.2222222222222222,
             "#7201a8"
            ],
            [
             0.3333333333333333,
             "#9c179e"
            ],
            [
             0.4444444444444444,
             "#bd3786"
            ],
            [
             0.5555555555555556,
             "#d8576b"
            ],
            [
             0.6666666666666666,
             "#ed7953"
            ],
            [
             0.7777777777777778,
             "#fb9f3a"
            ],
            [
             0.8888888888888888,
             "#fdca26"
            ],
            [
             1,
             "#f0f921"
            ]
           ]
          },
          "colorway": [
           "#636efa",
           "#EF553B",
           "#00cc96",
           "#ab63fa",
           "#FFA15A",
           "#19d3f3",
           "#FF6692",
           "#B6E880",
           "#FF97FF",
           "#FECB52"
          ],
          "font": {
           "color": "#2a3f5f"
          },
          "geo": {
           "bgcolor": "white",
           "lakecolor": "white",
           "landcolor": "#E5ECF6",
           "showlakes": true,
           "showland": true,
           "subunitcolor": "white"
          },
          "hoverlabel": {
           "align": "left"
          },
          "hovermode": "closest",
          "mapbox": {
           "style": "light"
          },
          "paper_bgcolor": "white",
          "plot_bgcolor": "#E5ECF6",
          "polar": {
           "angularaxis": {
            "gridcolor": "white",
            "linecolor": "white",
            "ticks": ""
           },
           "bgcolor": "#E5ECF6",
           "radialaxis": {
            "gridcolor": "white",
            "linecolor": "white",
            "ticks": ""
           }
          },
          "scene": {
           "xaxis": {
            "backgroundcolor": "#E5ECF6",
            "gridcolor": "white",
            "gridwidth": 2,
            "linecolor": "white",
            "showbackground": true,
            "ticks": "",
            "zerolinecolor": "white"
           },
           "yaxis": {
            "backgroundcolor": "#E5ECF6",
            "gridcolor": "white",
            "gridwidth": 2,
            "linecolor": "white",
            "showbackground": true,
            "ticks": "",
            "zerolinecolor": "white"
           },
           "zaxis": {
            "backgroundcolor": "#E5ECF6",
            "gridcolor": "white",
            "gridwidth": 2,
            "linecolor": "white",
            "showbackground": true,
            "ticks": "",
            "zerolinecolor": "white"
           }
          },
          "shapedefaults": {
           "line": {
            "color": "#2a3f5f"
           }
          },
          "ternary": {
           "aaxis": {
            "gridcolor": "white",
            "linecolor": "white",
            "ticks": ""
           },
           "baxis": {
            "gridcolor": "white",
            "linecolor": "white",
            "ticks": ""
           },
           "bgcolor": "#E5ECF6",
           "caxis": {
            "gridcolor": "white",
            "linecolor": "white",
            "ticks": ""
           }
          },
          "title": {
           "x": 0.05
          },
          "xaxis": {
           "automargin": true,
           "gridcolor": "white",
           "linecolor": "white",
           "ticks": "",
           "title": {
            "standoff": 15
           },
           "zerolinecolor": "white",
           "zerolinewidth": 2
          },
          "yaxis": {
           "automargin": true,
           "gridcolor": "white",
           "linecolor": "white",
           "ticks": "",
           "title": {
            "standoff": 15
           },
           "zerolinecolor": "white",
           "zerolinewidth": 2
          }
         }
        },
        "title": {
         "text": "Interactive Scatterplot of %RoS Change vs. LY vs %Stockists Change vs. LY<br><sup>Brands with stockists >1k | Brands with over +100% and below -100% for RoS and Stockists change not shown</sup>",
         "x": 0.5,
         "xanchor": "center",
         "y": 0.92,
         "yanchor": "top"
        },
        "xaxis": {
         "anchor": "y",
         "domain": [
          0,
          1
         ],
         "title": {
          "text": "%ROS Change Vs LY"
         }
        },
        "yaxis": {
         "anchor": "x",
         "domain": [
          0,
          1
         ],
         "title": {
          "text": "%Stockists Change Vs LY"
         }
        }
       }
      },
      "text/html": [
       "<div>                            <div id=\"a0823727-d3a5-4ef2-bace-e09d4b95091f\" class=\"plotly-graph-div\" style=\"height:525px; width:100%;\"></div>            <script type=\"text/javascript\">                require([\"plotly\"], function(Plotly) {                    window.PLOTLYENV=window.PLOTLYENV || {};                                    if (document.getElementById(\"a0823727-d3a5-4ef2-bace-e09d4b95091f\")) {                    Plotly.newPlot(                        \"a0823727-d3a5-4ef2-bace-e09d4b95091f\",                        [{\"customdata\":[[\"Old Mout Cider Pineapple & Raspberry\",\"ENGLAND & WALES\"],[\"All Other Brewers\",\"ENGLAND & WALES\"],[\"Old Mout Cider Berries & Cherries Alcohol Free\",\"ENGLAND & WALES\"],[\"Rekorderlig Passion Fruit\",\"ENGLAND & WALES\"],[\"Rekorderlig Mango and Raspberry\",\"ENGLAND & WALES\"],[\"Westons Stowford Press\",\"ENGLAND & WALES\"],[\"All Other Brewers\",\"ENGLAND & WALES\"],[\"Carling\",\"ENGLAND & WALES\"],[\"Kopparberg Strawberry And Lime Non-Alcoholic\",\"ENGLAND & WALES\"],[\"Rekorderlig Strawberry & Lime Low Alcohol\",\"ENGLAND & WALES\"],[\"Magners\",\"SCOTLAND\"],[\"All Other Thatchers\",\"ENGLAND & WALES\"],[\"Thatchers Haze\",\"ENGLAND & WALES\"],[\"Kopparberg\",\"SCOTLAND\"],[\"Strongbow\",\"SCOTLAND\"],[\"All Other Thatchers\",\"ENGLAND & WALES\"],[\"Thatchers Haze\",\"ENGLAND & WALES\"],[\"Strongbow Dark Fruit\",\"SCOTLAND\"],[\"Magners Dark Fruit\",\"ENGLAND & WALES\"],[\"Orchard Pig Reveller\",\"ENGLAND & WALES\"],[\"Somersby Cider\",\"ENGLAND & WALES\"],[\"Rekorderlig Pear\",\"ENGLAND & WALES\"],[\"All Other Kopparberg Cider of Sweden Ltd\",\"ENGLAND & WALES\"],[\"Westons Old Rosie\",\"ENGLAND & WALES\"],[\"Orchard Thieves Apple Cider\",\"ENGLAND & WALES\"],[\"Kopparberg Passionfruit\",\"ENGLAND & WALES\"],[\"Rekorderlig Apple Cider\",\"ENGLAND & WALES\"],[\"Bulmers Orchard Pioneers Green Apple Cider\",\"ENGLAND & WALES\"],[\"Cornish Orchards Cornish Gold Cider\",\"ENGLAND & WALES\"],[\"Thatchers Dry\",\"ENGLAND & WALES\"],[\"Thatchers Katy\",\"ENGLAND & WALES\"],[\"Healeys Cornish Rattler Original\",\"ENGLAND & WALES\"],[\"Thatchers Rose\",\"ENGLAND & WALES\"],[\"All Other Molson Coors\",\"ENGLAND & WALES\"],[\"Rekorderlig Strawberry & Lime\",\"SCOTLAND\"],[\"Thatchers Traditional\",\"ENGLAND & WALES\"],[\"All Other Brewers\",\"ENGLAND & WALES\"],[\"Kopparberg Strawberry And Lime Non-Alcoholic\",\"SCOTLAND\"],[\"Old Mout Cider Passionfruit & Apple\",\"ENGLAND & WALES\"],[\"Kingstone Press\",\"ENGLAND & WALES\"],[\"All Other Westons\",\"ENGLAND & WALES\"],[\"Magners Dark Fruit\",\"SCOTLAND\"],[\"Symonds Founders Reserve\",\"ENGLAND & WALES\"],[\"All Other Westons\",\"ENGLAND & WALES\"],[\"Westons Rosies Pig Cloudy Cider\",\"ENGLAND & WALES\"],[\"Brothers\",\"ENGLAND & WALES\"],[\"Carling British Cider\",\"ENGLAND & WALES\"],[\"Rekorderlig Wild Berries\",\"SCOTLAND\"],[\"Any Other Draught Cider\",\"ENGLAND & WALES\"],[\"Old Mout Cider Berries & Cherries\",\"SCOTLAND\"],[\"Bulmers\",\"SCOTLAND\"],[\"All Other Carlsberg UK\",\"ENGLAND & WALES\"],[\"All Other Westons\",\"ENGLAND & WALES\"],[\"Kopparberg Strawberry And Lime\",\"ENGLAND & WALES\"],[\"Rekorderlig Spiced Plum\",\"ENGLAND & WALES\"],[\"Aspall Harry Sparrow Cyder\",\"ENGLAND & WALES\"],[\"Woodpecker\",\"ENGLAND & WALES\"],[\"All Other C & C Group\",\"ENGLAND & WALES\"],[\"Old Mout Cider Kiwi & Lime\",\"SCOTLAND\"],[\"Kingstone Press Wild Berry\",\"ENGLAND & WALES\"],[\"Old Mout Cider Pineapple & Raspberry\",\"SCOTLAND\"],[\"All Other Brewers\",\"SCOTLAND\"],[\"All Other Brothers Drink Company\",\"ENGLAND & WALES\"]],\"hovertemplate\":\"Type Of Alcohol=Cider<br>%ROS Change Vs LY=%{x}<br>%Stockists Change Vs LY=%{y}<br>Brand=%{customdata[0]}<br>Country=%{customdata[1]}<extra></extra>\",\"legendgroup\":\"Cider\",\"marker\":{\"color\":\"#636efa\",\"symbol\":\"circle\",\"size\":15},\"mode\":\"markers\",\"name\":\"Cider\",\"orientation\":\"v\",\"showlegend\":true,\"x\":[0.022651969121633416,-0.061952686887270556,0.32696976728612936,-0.06717397127990239,0.03794822802271358,0.00226574052159933,-0.08739346008974787,0.1206310302782058,0.13352879815277255,0.39991426383657563,0.10044558105756546,-0.36915336154521594,0.037849433810014085,-0.019838240211426626,-0.07124640616864736,0.012171757471466975,0.220743497840087,-0.030187025489892553,0.03534078171792077,-0.0843917377677318,0.1086719290971052,0.0669365662844637,-0.20436765487351852,0.16898749025612814,-0.06147075110712334,-0.2323697248433997,0.036292303032412696,0.384756278062995,0.04044411860147416,0.1127920928423328,-0.007156276202185519,0.0039969765370146855,0.3525996381630047,0.11244043873111792,0.19537139380695398,0.8186440929673576,-0.08048642798574873,0.22437577553742685,0.8958770827345477,-0.7020124466305998,0.2711650935262751,-0.25407780135996494,-0.9304516991118732,0.6811898293996843,0.32388301423874166,-0.3046730415894431,-0.022412771403729666,0.16795785332433413,0.20174251496840562,0.3053860697110723,-0.16185412732371018,0.3573941175448227,-0.07890487445116265,0.042025041984331955,0.5016942427127463,0.01737884758027442,-0.11361010350890538,-0.08013297988228242,-0.01378413982320968,-0.5512290883066903,0.1816076446323586,0.14100000314244351,0.058505925938153264],\"xaxis\":\"x\",\"y\":[0.05460628104517798,-0.11097385339838975,0.28289850338888367,-0.07134443557386325,-0.120490360722494,-0.06031596200384459,-0.11040811338560846,-0.16543284869061023,0.14407536678018418,0.2774278478571688,-0.04918025861062556,0.3748203623142361,-0.041986563574135,0.016148626154077583,-0.08553464963217847,0.5581768697316474,-0.03682592249768344,-0.11070798747704698,-0.1988902890270822,-0.11014532560765214,0.04298091424342822,-0.1431703446517158,0.33811938215016085,-0.12281718193063167,-0.060100653496189434,-0.1846762265927472,-0.18248562312513392,0.05537652259564675,-0.19655020537667617,-0.013952590935882475,-0.10955872271778141,-0.0871055453496003,-0.07726669276085775,0.12396844786066295,-0.023910028237819087,0.36409207312491243,-0.08752140865184137,0.03079095290169298,0.00404837746652868,-0.15172633099499508,-0.2202193128756277,-0.06066089033608669,-0.21073083989183902,0.11011605438333695,-0.08672691927448556,-0.4674596232743194,-0.14058805265881363,-0.04092042962539678,-0.03711930540918166,0.019827825913512207,-0.06597590642223936,-0.06699329606702131,-0.4258654847358785,-0.1424645635810622,-0.13994188818441594,-0.20376588962903494,-0.321132072748065,-0.28537926918851286,0.11626018726970269,-0.18153562234847595,0.12432517465783657,-0.027074200445345562,0.21766906136150607],\"yaxis\":\"y\",\"type\":\"scatter\"},{\"customdata\":[[\"All Other Brewers\",\"ENGLAND & WALES\"],[\"Brewdog Punk IPA\",\"ENGLAND & WALES\"],[\"Worthington's\",\"ENGLAND & WALES\"],[\"Old Speckled Hen\",\"ENGLAND & WALES\"],[\"Sharps Atlantic Pale Ale\",\"ENGLAND & WALES\"],[\"Tetleys\",\"ENGLAND & WALES\"],[\"Greene King IPA\",\"ENGLAND & WALES\"],[\"All Other Marstons\",\"ENGLAND & WALES\"],[\"Beavertown Gamma Ray APA\",\"ENGLAND & WALES\"],[\"Erdinger Heffe Weissbier\",\"ENGLAND & WALES\"],[\"Camden Town Pale Ale\",\"ENGLAND & WALES\"],[\"Greene King Abbot Ale\",\"ENGLAND & WALES\"],[\"Fullers London Pride\",\"ENGLAND & WALES\"],[\"Goose Island IPA\",\"ENGLAND & WALES\"],[\"All Other Marstons\",\"ENGLAND & WALES\"],[\"Tim Taylor Landlord\",\"ENGLAND & WALES\"],[\"Tribute Ale\",\"ENGLAND & WALES\"],[\"All Other Greene King\",\"ENGLAND & WALES\"],[\"Greene King Ice Breaker\",\"ENGLAND & WALES\"],[\"Fullers London Pride\",\"ENGLAND & WALES\"],[\"All Other Heineken UK\",\"ENGLAND & WALES\"],[\"Wychwood Hobgoblin Ruby\",\"ENGLAND & WALES\"],[\"Marstons Shipyard American Pale Ale\",\"ENGLAND & WALES\"],[\"Boddingtons\",\"ENGLAND & WALES\"],[\"Belhaven Best\",\"SCOTLAND\"],[\"Meantime Pale Ale\",\"ENGLAND & WALES\"],[\"Adnams Ghost Ship\",\"ENGLAND & WALES\"],[\"Marstons Pedigree\",\"ENGLAND & WALES\"],[\"Wainwright\",\"ENGLAND & WALES\"],[\"Manns Brown Ale\",\"ENGLAND & WALES\"],[\"All Other Brewers\",\"SCOTLAND\"],[\"Caledonia Best\",\"SCOTLAND\"],[\"Brewdog Elvis Juice\",\"ENGLAND & WALES\"],[\"Maltsmiths American Style IPA\",\"ENGLAND & WALES\"],[\"All Other Brewdog\",\"ENGLAND & WALES\"],[\"Courage Light Ale\",\"ENGLAND & WALES\"],[\"Goose Island Midway IPA\",\"ENGLAND & WALES\"],[\"Lagunitas IPA\",\"ENGLAND & WALES\"],[\"All Other Brewers\",\"ENGLAND & WALES\"],[\"Newcastle Brown Ale\",\"SCOTLAND\"],[\"All Other Molson Coors\",\"ENGLAND & WALES\"],[\"All Other Greene King\",\"ENGLAND & WALES\"],[\"Spitfire\",\"ENGLAND & WALES\"],[\"Caffreys\",\"ENGLAND & WALES\"],[\"Brewdog Punk IPA\",\"SCOTLAND\"],[\"Black Sheep Best Bitter\",\"ENGLAND & WALES\"],[\"Greene King East Coast IPA\",\"ENGLAND & WALES\"],[\"Black Sheep Ale\",\"ENGLAND & WALES\"],[\"Brewdog Dead Pony Club\",\"ENGLAND & WALES\"],[\"All Other Budweiser Brewing Group UK&I\",\"ENGLAND & WALES\"],[\"Wychwood Hobgoblin Gold\",\"ENGLAND & WALES\"],[\"Any Other Packaged Ale/Stout\",\"ENGLAND & WALES\"],[\"John Smith's\",\"SCOTLAND\"],[\"Eagle Brewery Bombardier Amber Beer\",\"ENGLAND & WALES\"],[\"All Other Adnams\",\"ENGLAND & WALES\"],[\"Theakstons Best\",\"ENGLAND & WALES\"],[\"Brewdog Hazy Jane\",\"ENGLAND & WALES\"],[\"Old Speckled Hen Gluten Free\",\"ENGLAND & WALES\"],[\"All other Charles Wells\",\"ENGLAND & WALES\"],[\"All Other Carlsberg UK\",\"ENGLAND & WALES\"],[\"Brewdog Vagabond Pale Ale\",\"ENGLAND & WALES\"],[\"Tiny Rebel Clwb Tropicana\",\"ENGLAND & WALES\"],[\"Fullers Organic Honeydew\",\"ENGLAND & WALES\"],[\"Lagunitas Day Time\",\"ENGLAND & WALES\"],[\"Banks's Bitter\",\"ENGLAND & WALES\"],[\"All Other Brewers\",\"SCOTLAND\"],[\"Duvel\",\"ENGLAND & WALES\"],[\"Youngs Light Ale\",\"ENGLAND & WALES\"],[\"Wadworths 6X\",\"ENGLAND & WALES\"],[\"St Austell Proper Job\",\"ENGLAND & WALES\"],[\"Marstons Resolution\",\"ENGLAND & WALES\"],[\"All Other Black Sheep\",\"ENGLAND & WALES\"],[\"Hoegaarden\",\"ENGLAND & WALES\"]],\"hovertemplate\":\"Type Of Alcohol=Ale<br>%ROS Change Vs LY=%{x}<br>%Stockists Change Vs LY=%{y}<br>Brand=%{customdata[0]}<br>Country=%{customdata[1]}<extra></extra>\",\"legendgroup\":\"Ale\",\"marker\":{\"color\":\"#EF553B\",\"symbol\":\"circle\",\"size\":15},\"mode\":\"markers\",\"name\":\"Ale\",\"orientation\":\"v\",\"showlegend\":true,\"x\":[0.01759231781018303,-0.12532206521187955,0.005164946646953716,0.016018547069669306,-0.016098681350036288,-0.11062544156242424,0.04871464129553105,-0.28262913694755926,-0.17721889055652884,0.09945946960983437,0.005879047432175548,-0.08010110918980029,-0.06407695831706851,0.002401697391112528,-0.02861772543051185,0.01502146451537471,-0.044966086173526286,0.19649491751367473,0.035113149212292985,0.1116849142550703,0.21271572059130028,0.04252168951084351,-0.08657809301690704,-0.06316609729095272,0.05519859746231252,-0.13500493954616316,0.020812658239109477,0.10818597486462049,0.06263748006863994,-0.2034022264111081,0.04268214237337501,0.20365943897465905,-0.0712821125071472,-0.41609581857781824,-0.03744792274197409,-0.09240486912705502,-0.023054287554186998,-0.09471649810659467,-0.1511945966917907,0.23477473333861612,0.031149303792170856,0.18265322324495747,0.2268689401729703,0.24480225909427894,-0.36928995249949226,0.046913575992076996,0.39086707747540234,0.10160778980671406,-0.1798346470292707,-0.19469484006217605,-0.06878326263233711,0.27140000839901507,-0.06295037182699884,-0.236159900475632,-0.1651411141233299,0.30457873166941124,0.10901090226574225,0.21682799265758568,0.12983222059049357,-0.23711912904180094,0.12989064127505168,0.030478541000954932,-0.17166585919095786,0.10575482057041899,0.0040058716826144695,0.09086357745257818,0.051039690867808477,0.12307653742119007,0.026187369289022905,-0.22729062510594966,0.2533697078317608,0.1313461779697984,-0.1521128400400884],\"xaxis\":\"x\",\"y\":[-0.0618676836307883,-0.11300615121104086,-0.043801041377470464,-0.07746510289805864,-0.06353080770773309,-0.1446902306362836,-0.14768757250486222,0.147558751243204,-0.0814444844251273,-0.07179226541872792,-0.06578637195791637,0.0059627543674332885,-0.1009597110253954,-0.21906279227261177,-0.00429942342125866,-0.0844664123493206,-0.10419970391198775,0.0969106100590608,-0.06478721285396082,-0.061320733799890316,0.018860789239823053,-0.13487168376727773,-0.07311969676987608,-0.1713728943658105,-0.14304282694126896,-0.22401092971121708,0.16746102475684582,-0.162253011618217,-0.10263154104865257,-0.15801376854883298,-0.1017592398559324,-0.12296012767615508,-0.1360819602212695,-0.22289729104032513,-0.04920429945292982,-0.12670443995033395,-0.22603711778415794,-0.2453744431583092,-0.0529531087383956,-0.10697345550366141,0.03723885704330993,0.02168542970859907,-0.14633109017332008,-0.11314033225322348,-0.1200729431431819,-0.1608126830398944,-0.15962510616582626,-0.22540039622955615,-0.26621704217746534,-0.2078619628248477,-0.03487352623955882,0.08482565898638172,-0.1484405940466427,-0.20958536384535634,-0.13478367166547933,-0.2235121603978479,-0.1553792258894992,0.044801918424079296,-0.19433555677147848,-0.2257756902181313,-0.2759221371263312,-0.1829064746280217,-0.08095857235244956,-0.20009866986526775,-0.11398809748382287,-0.046158708489213524,-0.32382475286778306,-0.24575657837817363,-0.11690137831741301,-0.20437395865847685,-0.17236293019140456,-0.12364610823652585,-0.2456144810360938],\"yaxis\":\"y\",\"type\":\"scatter\"},{\"customdata\":[[\"All Other Brewers\",\"ENGLAND & WALES\"],[\"Peroni Nastro Azzurro Gluten Free\",\"ENGLAND & WALES\"],[\"Holsten Pils\",\"ENGLAND & WALES\"],[\"Becks 4%\",\"ENGLAND & WALES\"],[\"Staropramen\",\"ENGLAND & WALES\"],[\"Blue Moon\",\"ENGLAND & WALES\"],[\"Camden Hells Lager\",\"ENGLAND & WALES\"],[\"Corona Extra\",\"SCOTLAND\"],[\"Budweiser\",\"SCOTLAND\"],[\"Peroni Nastro Azzurro\",\"SCOTLAND\"],[\"Cobra\",\"ENGLAND & WALES\"],[\"Estrella Daura\",\"ENGLAND & WALES\"],[\"Brooklyn Lager\",\"ENGLAND & WALES\"],[\"Leffe Blonde\",\"ENGLAND & WALES\"],[\"Bud Light\",\"ENGLAND & WALES\"],[\"Red Stripe\",\"ENGLAND & WALES\"],[\"Carlsberg Export\",\"ENGLAND & WALES\"],[\"Pravha\",\"ENGLAND & WALES\"],[\"Tiger\",\"ENGLAND & WALES\"],[\"Estrella Galicia\",\"ENGLAND & WALES\"],[\"Bud Budvar\",\"ENGLAND & WALES\"],[\"Birra Poretti\",\"ENGLAND & WALES\"],[\"Birra Moretti\",\"SCOTLAND\"],[\"All Other Heineken UK\",\"ENGLAND & WALES\"],[\"Kingfisher\",\"ENGLAND & WALES\"],[\"Miller Genuine Draft\",\"SCOTLAND\"],[\"Stella Artois\",\"SCOTLAND\"],[\"Modelo Especial\",\"ENGLAND & WALES\"],[\"Becks\",\"SCOTLAND\"],[\"All Other Brewers\",\"ENGLAND & WALES\"],[\"Singha\",\"ENGLAND & WALES\"],[\"Desperados\",\"SCOTLAND\"],[\"Coors Light 4.0%\",\"SCOTLAND\"],[\"All Other Heineken UK\",\"ENGLAND & WALES\"],[\"All Other Carlsberg UK\",\"ENGLAND & WALES\"],[\"Tsingtao\",\"ENGLAND & WALES\"],[\"Jubel Alpine Beer Cut With Peach\",\"ENGLAND & WALES\"],[\"All Other Budweiser Brewing Group UK&I\",\"ENGLAND & WALES\"],[\"Carling\",\"SCOTLAND\"],[\"Heineken\",\"SCOTLAND\"],[\"Sharps Offshore Pilsner\",\"ENGLAND & WALES\"],[\"Peroni Gran Riserva\",\"ENGLAND & WALES\"],[\"Peroni Red\",\"ENGLAND & WALES\"],[\"Any Other Draught Lager <4.1%\",\"ENGLAND & WALES\"],[\"Mahou 5 Estrellas\",\"ENGLAND & WALES\"],[\"All Other Brewers\",\"SCOTLAND\"],[\"Sol\",\"SCOTLAND\"],[\"Menabrea Blonde\",\"ENGLAND & WALES\"],[\"Tyskie\",\"ENGLAND & WALES\"],[\"Heverlee Belgian Lager\",\"SCOTLAND\"],[\"Efes Pils\",\"ENGLAND & WALES\"],[\"Peroni Nastro Azzurro Gluten Free\",\"SCOTLAND\"],[\"Menabrea Blonde\",\"SCOTLAND\"],[\"Pacifico Clara\",\"ENGLAND & WALES\"],[\"Innis & Gunn Lager\",\"SCOTLAND\"],[\"Amigos Beer\",\"ENGLAND & WALES\"],[\"Chapel Down Curious Brew\",\"ENGLAND & WALES\"],[\"All Other Greene King\",\"ENGLAND & WALES\"],[\"Maltsmiths Bavarian Style Pils\",\"ENGLAND & WALES\"],[\"Estrella Damm\",\"SCOTLAND\"],[\"Skinny Lager\",\"ENGLAND & WALES\"],[\"San Miguel Gluten Free\",\"ENGLAND & WALES\"]],\"hovertemplate\":\"Type Of Alcohol=Lager<br>%ROS Change Vs LY=%{x}<br>%Stockists Change Vs LY=%{y}<br>Brand=%{customdata[0]}<br>Country=%{customdata[1]}<extra></extra>\",\"legendgroup\":\"Lager\",\"marker\":{\"color\":\"#00cc96\",\"symbol\":\"circle\",\"size\":15},\"mode\":\"markers\",\"name\":\"Lager\",\"orientation\":\"v\",\"showlegend\":true,\"x\":[-0.09311285727543066,0.006844931951512319,0.23151132825104,-0.15596056813909162,0.05394228747315985,0.058981841298365874,0.1584533078983616,0.1415776452083005,-0.030249711220876517,-0.0009028480084516129,0.13033755361290575,0.013784396165660946,-0.1258758411948258,0.04414964786700723,-0.08855251272970105,-0.013265803755584725,-0.21473738999413264,0.05216658762302101,0.025864794279563764,0.037558126842815315,0.005758458440769483,0.10709480013431415,0.018872274436895604,-0.35876760882126724,-0.031553224714253536,-0.006147762776775455,0.10144657270953032,-0.0355234797277744,0.09510321582284156,-0.21432353811878965,0.06066545065153565,0.012242063019259895,0.07456087184184368,-0.05807850126461472,0.3693387349414502,-0.09286819499741156,0.1064383805752991,0.906539112919308,-0.05440887578733305,-0.043147787155509446,-0.12466073683194662,-0.3223609608321529,-0.13718864646178475,-0.13008550486650028,0.7665346132975656,0.09925064099218606,-0.027804888113657618,0.37923071353803434,0.0059900726085975855,0.14900934539948046,0.39651516554159477,-0.03507415457063512,0.29350150928000734,-0.09393946231311708,-0.0018063620904750805,-0.18442434281238154,0.047035558784372385,0.1839272771062114,0.29827951679048625,-0.22140490872482216,-0.08307173730100473,0.06072619597800362],\"xaxis\":\"x\",\"y\":[-0.16886041550147543,-0.05389324091007969,-0.12673653954853148,-0.07211209628297129,-0.13764750178902418,-0.15219501062171872,-0.10484096346321053,-0.06895266674749752,-0.10742161361871519,-0.10724421619325318,-0.14349294108317096,0.05807456085248818,-0.20579744038201453,-0.11045256064644532,-0.14632085178371915,-0.09830314875488383,-0.058249389602553395,-0.034594698815072385,-0.1842325748919592,-0.0018117456487049936,-0.21471415816198008,0.23292316380426173,0.14311063922029066,0.1206979460737599,-0.151813770167395,-0.13080227725188123,-0.1648768873492723,-0.07798513126735108,-0.09660895724219672,-0.11106733628952581,-0.1305976415829293,-0.09173018718808022,-0.12804192265520675,-0.07838629713406936,0.03675993364757808,-0.13939695793624945,0.4718303166263078,-0.12697170704574107,-0.05620411683381109,-0.03770878125782386,-0.16922874625613496,-0.11355412288278845,-0.11089359284113556,0.05322044449851376,-0.04731853319194243,-0.19616523439347297,0.01670696822058897,-0.16291699236454013,-0.19070160789485827,-0.09343992492858233,-0.22201817131298132,-0.12125723819322866,-0.10262404989275817,-0.14570828648323625,-0.15030223884919638,-0.09575642545468059,-0.1924588505814008,0.24759737211326766,-0.0718833345777406,-0.09595267126050634,-0.21874934399912657,-0.15965319331385167],\"yaxis\":\"y\",\"type\":\"scatter\"},{\"customdata\":[[\"All Other Asahi UK\",\"ENGLAND & WALES\"],[\"San Miguel\",\"ENGLAND & WALES\"],[\"Erdinger Alcoholfrei\",\"ENGLAND & WALES\"],[\"Adnams Ghost Ship Alcohol Free\",\"ENGLAND & WALES\"],[\"All Other Brewers\",\"ENGLAND & WALES\"],[\"Brewdog Punk AF\",\"ENGLAND & WALES\"],[\"Becks LA\",\"SCOTLAND\"],[\"Heineken 0.0\",\"SCOTLAND\"],[\"Old Speckled Hen Low Alcohol\",\"ENGLAND & WALES\"],[\"Lucky Saint Unfiltered Alcohol Free Lager\",\"ENGLAND & WALES\"],[\"Brewdog Nanny State\",\"ENGLAND & WALES\"],[\"Brooklyn Special Effects\",\"ENGLAND & WALES\"],[\"Birra Moretti\",\"ENGLAND & WALES\"],[\"All Other Budweiser Brewing Group UK&I\",\"ENGLAND & WALES\"],[\"Estrella Galicia Alcohol Free\",\"ENGLAND & WALES\"],[\"All Other Marstons\",\"ENGLAND & WALES\"],[\"Cobra Zero 0.0%\",\"ENGLAND & WALES\"],[\"Erdinger Alcoholfrei\",\"SCOTLAND\"],[\"Carlsberg 0.0\",\"ENGLAND & WALES\"],[\"All Other SA Damm\",\"ENGLAND & WALES\"]],\"hovertemplate\":\"Type Of Alcohol=NAB/LAB<br>%ROS Change Vs LY=%{x}<br>%Stockists Change Vs LY=%{y}<br>Brand=%{customdata[0]}<br>Country=%{customdata[1]}<extra></extra>\",\"legendgroup\":\"NAB/LAB\",\"marker\":{\"color\":\"#ab63fa\",\"symbol\":\"circle\",\"size\":15},\"mode\":\"markers\",\"name\":\"NAB/LAB\",\"orientation\":\"v\",\"showlegend\":true,\"x\":[0.40431680042844137,0.20528075864745263,0.20460016928825306,0.43039120577000967,0.21968490545476121,-0.15724319088328853,-0.0018516358582643243,0.19078922735731588,0.3839223624344684,0.09081302267486313,-0.04377844519199201,0.04713004926886087,-0.07065331201063857,0.407629414268123,0.5873524917600258,0.22389882068136058,-0.3275071662277056,0.16134838355005748,0.3258052303989432,0.20372714931517932],\"xaxis\":\"x\",\"y\":[0.2794417491153372,-0.03497983457517265,0.0592441031706666,0.021421194267679827,0.3037052282795832,-0.04270870088086389,-0.08221263186099449,0.08328703807451822,0.007754274621898298,0.4732415110507018,-0.1398704312751082,-0.1453220361611438,0.8556203423008261,0.8798072395546362,0.12936899714149822,0.20544393636735306,-0.11022311523791549,0.0354221570547737,-0.16481542816105899,-0.11914618561920406],\"yaxis\":\"y\",\"type\":\"scatter\"},{\"customdata\":[[\"VK\",\"ENGLAND & WALES\"],[\"WKD Iron Brew\",\"ENGLAND & WALES\"],[\"Hooch\",\"ENGLAND & WALES\"],[\"WKD Pink Gin\",\"ENGLAND & WALES\"],[\"WKD Blue\",\"SCOTLAND\"],[\"All Other Suppliers\",\"ENGLAND & WALES\"],[\"Smirnoff Ice Red\",\"SCOTLAND\"],[\"All Other Brewers\",\"ENGLAND & WALES\"],[\"All Other Diageo GB\",\"ENGLAND & WALES\"],[\"WKD Berry\",\"ENGLAND & WALES\"],[\"All Other Beverage Brands\",\"ENGLAND & WALES\"],[\"Crabbies\",\"SCOTLAND\"],[\"All Other Bacardi Martini Ltd\",\"ENGLAND & WALES\"],[\"Tails Pornstar Martini\",\"ENGLAND & WALES\"],[\"VK\",\"SCOTLAND\"]],\"hovertemplate\":\"Type Of Alcohol=RTD's<br>%ROS Change Vs LY=%{x}<br>%Stockists Change Vs LY=%{y}<br>Brand=%{customdata[0]}<br>Country=%{customdata[1]}<extra></extra>\",\"legendgroup\":\"RTD's\",\"marker\":{\"color\":\"#FFA15A\",\"symbol\":\"circle\",\"size\":15},\"mode\":\"markers\",\"name\":\"RTD's\",\"orientation\":\"v\",\"showlegend\":true,\"x\":[-0.15444465281465372,0.11117153343708332,-0.06731035999669353,0.011545196666990037,-0.12322566153371772,0.2694034473935632,0.04934464310501664,-0.26467293377168594,-0.14163938102168433,0.2016185830895621,-0.20362043327096963,0.03281820545550964,-0.06147791239688243,-0.5638785303402969,0.1613299336312527],\"xaxis\":\"x\",\"y\":[-0.03328432294290111,-0.08526662277760222,-0.1162167314488394,-0.15473429456503282,-0.06828398877794477,-0.02245908534974517,-0.03177509649871709,0.9945651576416544,-0.13684936116420388,0.1886008261340772,-0.054364680253925865,0.05948321249641134,-0.2337129481400854,-0.42341156619740355,-0.03521513839352465],\"yaxis\":\"y\",\"type\":\"scatter\"},{\"customdata\":[[\"Guinness Surger\",\"ENGLAND & WALES\"],[\"Guinness Original\",\"ENGLAND & WALES\"],[\"Guinness\",\"SCOTLAND\"],[\"All Other Brewers\",\"ENGLAND & WALES\"],[\"Guinness Surger\",\"SCOTLAND\"]],\"hovertemplate\":\"Type Of Alcohol=Stout<br>%ROS Change Vs LY=%{x}<br>%Stockists Change Vs LY=%{y}<br>Brand=%{customdata[0]}<br>Country=%{customdata[1]}<extra></extra>\",\"legendgroup\":\"Stout\",\"marker\":{\"color\":\"#19d3f3\",\"symbol\":\"circle\",\"size\":15},\"mode\":\"markers\",\"name\":\"Stout\",\"orientation\":\"v\",\"showlegend\":true,\"x\":[-0.0069128225679771045,-0.04463784550876644,0.3263205728396495,0.24955128500629303,0.03672955743346938],\"xaxis\":\"x\",\"y\":[-0.1477850604480406,-0.05077509653728731,-0.03524919268669541,-0.14445726560689606,-0.10917422222653264],\"yaxis\":\"y\",\"type\":\"scatter\"}],                        {\"template\":{\"data\":{\"histogram2dcontour\":[{\"type\":\"histogram2dcontour\",\"colorbar\":{\"outlinewidth\":0,\"ticks\":\"\"},\"colorscale\":[[0.0,\"#0d0887\"],[0.1111111111111111,\"#46039f\"],[0.2222222222222222,\"#7201a8\"],[0.3333333333333333,\"#9c179e\"],[0.4444444444444444,\"#bd3786\"],[0.5555555555555556,\"#d8576b\"],[0.6666666666666666,\"#ed7953\"],[0.7777777777777778,\"#fb9f3a\"],[0.8888888888888888,\"#fdca26\"],[1.0,\"#f0f921\"]]}],\"choropleth\":[{\"type\":\"choropleth\",\"colorbar\":{\"outlinewidth\":0,\"ticks\":\"\"}}],\"histogram2d\":[{\"type\":\"histogram2d\",\"colorbar\":{\"outlinewidth\":0,\"ticks\":\"\"},\"colorscale\":[[0.0,\"#0d0887\"],[0.1111111111111111,\"#46039f\"],[0.2222222222222222,\"#7201a8\"],[0.3333333333333333,\"#9c179e\"],[0.4444444444444444,\"#bd3786\"],[0.5555555555555556,\"#d8576b\"],[0.6666666666666666,\"#ed7953\"],[0.7777777777777778,\"#fb9f3a\"],[0.8888888888888888,\"#fdca26\"],[1.0,\"#f0f921\"]]}],\"heatmap\":[{\"type\":\"heatmap\",\"colorbar\":{\"outlinewidth\":0,\"ticks\":\"\"},\"colorscale\":[[0.0,\"#0d0887\"],[0.1111111111111111,\"#46039f\"],[0.2222222222222222,\"#7201a8\"],[0.3333333333333333,\"#9c179e\"],[0.4444444444444444,\"#bd3786\"],[0.5555555555555556,\"#d8576b\"],[0.6666666666666666,\"#ed7953\"],[0.7777777777777778,\"#fb9f3a\"],[0.8888888888888888,\"#fdca26\"],[1.0,\"#f0f921\"]]}],\"heatmapgl\":[{\"type\":\"heatmapgl\",\"colorbar\":{\"outlinewidth\":0,\"ticks\":\"\"},\"colorscale\":[[0.0,\"#0d0887\"],[0.1111111111111111,\"#46039f\"],[0.2222222222222222,\"#7201a8\"],[0.3333333333333333,\"#9c179e\"],[0.4444444444444444,\"#bd3786\"],[0.5555555555555556,\"#d8576b\"],[0.6666666666666666,\"#ed7953\"],[0.7777777777777778,\"#fb9f3a\"],[0.8888888888888888,\"#fdca26\"],[1.0,\"#f0f921\"]]}],\"contourcarpet\":[{\"type\":\"contourcarpet\",\"colorbar\":{\"outlinewidth\":0,\"ticks\":\"\"}}],\"contour\":[{\"type\":\"contour\",\"colorbar\":{\"outlinewidth\":0,\"ticks\":\"\"},\"colorscale\":[[0.0,\"#0d0887\"],[0.1111111111111111,\"#46039f\"],[0.2222222222222222,\"#7201a8\"],[0.3333333333333333,\"#9c179e\"],[0.4444444444444444,\"#bd3786\"],[0.5555555555555556,\"#d8576b\"],[0.6666666666666666,\"#ed7953\"],[0.7777777777777778,\"#fb9f3a\"],[0.8888888888888888,\"#fdca26\"],[1.0,\"#f0f921\"]]}],\"surface\":[{\"type\":\"surface\",\"colorbar\":{\"outlinewidth\":0,\"ticks\":\"\"},\"colorscale\":[[0.0,\"#0d0887\"],[0.1111111111111111,\"#46039f\"],[0.2222222222222222,\"#7201a8\"],[0.3333333333333333,\"#9c179e\"],[0.4444444444444444,\"#bd3786\"],[0.5555555555555556,\"#d8576b\"],[0.6666666666666666,\"#ed7953\"],[0.7777777777777778,\"#fb9f3a\"],[0.8888888888888888,\"#fdca26\"],[1.0,\"#f0f921\"]]}],\"mesh3d\":[{\"type\":\"mesh3d\",\"colorbar\":{\"outlinewidth\":0,\"ticks\":\"\"}}],\"scatter\":[{\"fillpattern\":{\"fillmode\":\"overlay\",\"size\":10,\"solidity\":0.2},\"type\":\"scatter\"}],\"parcoords\":[{\"type\":\"parcoords\",\"line\":{\"colorbar\":{\"outlinewidth\":0,\"ticks\":\"\"}}}],\"scatterpolargl\":[{\"type\":\"scatterpolargl\",\"marker\":{\"colorbar\":{\"outlinewidth\":0,\"ticks\":\"\"}}}],\"bar\":[{\"error_x\":{\"color\":\"#2a3f5f\"},\"error_y\":{\"color\":\"#2a3f5f\"},\"marker\":{\"line\":{\"color\":\"#E5ECF6\",\"width\":0.5},\"pattern\":{\"fillmode\":\"overlay\",\"size\":10,\"solidity\":0.2}},\"type\":\"bar\"}],\"scattergeo\":[{\"type\":\"scattergeo\",\"marker\":{\"colorbar\":{\"outlinewidth\":0,\"ticks\":\"\"}}}],\"scatterpolar\":[{\"type\":\"scatterpolar\",\"marker\":{\"colorbar\":{\"outlinewidth\":0,\"ticks\":\"\"}}}],\"histogram\":[{\"marker\":{\"pattern\":{\"fillmode\":\"overlay\",\"size\":10,\"solidity\":0.2}},\"type\":\"histogram\"}],\"scattergl\":[{\"type\":\"scattergl\",\"marker\":{\"colorbar\":{\"outlinewidth\":0,\"ticks\":\"\"}}}],\"scatter3d\":[{\"type\":\"scatter3d\",\"line\":{\"colorbar\":{\"outlinewidth\":0,\"ticks\":\"\"}},\"marker\":{\"colorbar\":{\"outlinewidth\":0,\"ticks\":\"\"}}}],\"scattermapbox\":[{\"type\":\"scattermapbox\",\"marker\":{\"colorbar\":{\"outlinewidth\":0,\"ticks\":\"\"}}}],\"scatterternary\":[{\"type\":\"scatterternary\",\"marker\":{\"colorbar\":{\"outlinewidth\":0,\"ticks\":\"\"}}}],\"scattercarpet\":[{\"type\":\"scattercarpet\",\"marker\":{\"colorbar\":{\"outlinewidth\":0,\"ticks\":\"\"}}}],\"carpet\":[{\"aaxis\":{\"endlinecolor\":\"#2a3f5f\",\"gridcolor\":\"white\",\"linecolor\":\"white\",\"minorgridcolor\":\"white\",\"startlinecolor\":\"#2a3f5f\"},\"baxis\":{\"endlinecolor\":\"#2a3f5f\",\"gridcolor\":\"white\",\"linecolor\":\"white\",\"minorgridcolor\":\"white\",\"startlinecolor\":\"#2a3f5f\"},\"type\":\"carpet\"}],\"table\":[{\"cells\":{\"fill\":{\"color\":\"#EBF0F8\"},\"line\":{\"color\":\"white\"}},\"header\":{\"fill\":{\"color\":\"#C8D4E3\"},\"line\":{\"color\":\"white\"}},\"type\":\"table\"}],\"barpolar\":[{\"marker\":{\"line\":{\"color\":\"#E5ECF6\",\"width\":0.5},\"pattern\":{\"fillmode\":\"overlay\",\"size\":10,\"solidity\":0.2}},\"type\":\"barpolar\"}],\"pie\":[{\"automargin\":true,\"type\":\"pie\"}]},\"layout\":{\"autotypenumbers\":\"strict\",\"colorway\":[\"#636efa\",\"#EF553B\",\"#00cc96\",\"#ab63fa\",\"#FFA15A\",\"#19d3f3\",\"#FF6692\",\"#B6E880\",\"#FF97FF\",\"#FECB52\"],\"font\":{\"color\":\"#2a3f5f\"},\"hovermode\":\"closest\",\"hoverlabel\":{\"align\":\"left\"},\"paper_bgcolor\":\"white\",\"plot_bgcolor\":\"#E5ECF6\",\"polar\":{\"bgcolor\":\"#E5ECF6\",\"angularaxis\":{\"gridcolor\":\"white\",\"linecolor\":\"white\",\"ticks\":\"\"},\"radialaxis\":{\"gridcolor\":\"white\",\"linecolor\":\"white\",\"ticks\":\"\"}},\"ternary\":{\"bgcolor\":\"#E5ECF6\",\"aaxis\":{\"gridcolor\":\"white\",\"linecolor\":\"white\",\"ticks\":\"\"},\"baxis\":{\"gridcolor\":\"white\",\"linecolor\":\"white\",\"ticks\":\"\"},\"caxis\":{\"gridcolor\":\"white\",\"linecolor\":\"white\",\"ticks\":\"\"}},\"coloraxis\":{\"colorbar\":{\"outlinewidth\":0,\"ticks\":\"\"}},\"colorscale\":{\"sequential\":[[0.0,\"#0d0887\"],[0.1111111111111111,\"#46039f\"],[0.2222222222222222,\"#7201a8\"],[0.3333333333333333,\"#9c179e\"],[0.4444444444444444,\"#bd3786\"],[0.5555555555555556,\"#d8576b\"],[0.6666666666666666,\"#ed7953\"],[0.7777777777777778,\"#fb9f3a\"],[0.8888888888888888,\"#fdca26\"],[1.0,\"#f0f921\"]],\"sequentialminus\":[[0.0,\"#0d0887\"],[0.1111111111111111,\"#46039f\"],[0.2222222222222222,\"#7201a8\"],[0.3333333333333333,\"#9c179e\"],[0.4444444444444444,\"#bd3786\"],[0.5555555555555556,\"#d8576b\"],[0.6666666666666666,\"#ed7953\"],[0.7777777777777778,\"#fb9f3a\"],[0.8888888888888888,\"#fdca26\"],[1.0,\"#f0f921\"]],\"diverging\":[[0,\"#8e0152\"],[0.1,\"#c51b7d\"],[0.2,\"#de77ae\"],[0.3,\"#f1b6da\"],[0.4,\"#fde0ef\"],[0.5,\"#f7f7f7\"],[0.6,\"#e6f5d0\"],[0.7,\"#b8e186\"],[0.8,\"#7fbc41\"],[0.9,\"#4d9221\"],[1,\"#276419\"]]},\"xaxis\":{\"gridcolor\":\"white\",\"linecolor\":\"white\",\"ticks\":\"\",\"title\":{\"standoff\":15},\"zerolinecolor\":\"white\",\"automargin\":true,\"zerolinewidth\":2},\"yaxis\":{\"gridcolor\":\"white\",\"linecolor\":\"white\",\"ticks\":\"\",\"title\":{\"standoff\":15},\"zerolinecolor\":\"white\",\"automargin\":true,\"zerolinewidth\":2},\"scene\":{\"xaxis\":{\"backgroundcolor\":\"#E5ECF6\",\"gridcolor\":\"white\",\"linecolor\":\"white\",\"showbackground\":true,\"ticks\":\"\",\"zerolinecolor\":\"white\",\"gridwidth\":2},\"yaxis\":{\"backgroundcolor\":\"#E5ECF6\",\"gridcolor\":\"white\",\"linecolor\":\"white\",\"showbackground\":true,\"ticks\":\"\",\"zerolinecolor\":\"white\",\"gridwidth\":2},\"zaxis\":{\"backgroundcolor\":\"#E5ECF6\",\"gridcolor\":\"white\",\"linecolor\":\"white\",\"showbackground\":true,\"ticks\":\"\",\"zerolinecolor\":\"white\",\"gridwidth\":2}},\"shapedefaults\":{\"line\":{\"color\":\"#2a3f5f\"}},\"annotationdefaults\":{\"arrowcolor\":\"#2a3f5f\",\"arrowhead\":0,\"arrowwidth\":1},\"geo\":{\"bgcolor\":\"white\",\"landcolor\":\"#E5ECF6\",\"subunitcolor\":\"white\",\"showland\":true,\"showlakes\":true,\"lakecolor\":\"white\"},\"title\":{\"x\":0.05},\"mapbox\":{\"style\":\"light\"}}},\"xaxis\":{\"anchor\":\"y\",\"domain\":[0.0,1.0],\"title\":{\"text\":\"%ROS Change Vs LY\"}},\"yaxis\":{\"anchor\":\"x\",\"domain\":[0.0,1.0],\"title\":{\"text\":\"%Stockists Change Vs LY\"}},\"legend\":{\"title\":{\"text\":\"Type Of Alcohol\"},\"tracegroupgap\":0},\"margin\":{\"t\":60},\"title\":{\"text\":\"Interactive Scatterplot of %RoS Change vs. LY vs %Stockists Change vs. LY<br><sup>Brands with stockists >1k | Brands with over +100% and below -100% for RoS and Stockists change not shown</sup>\",\"y\":0.92,\"x\":0.5,\"xanchor\":\"center\",\"yanchor\":\"top\"}},                        {\"responsive\": true}                    ).then(function(){\n",
       "                            \n",
       "var gd = document.getElementById('a0823727-d3a5-4ef2-bace-e09d4b95091f');\n",
       "var x = new MutationObserver(function (mutations, observer) {{\n",
       "        var display = window.getComputedStyle(gd).display;\n",
       "        if (!display || display === 'none') {{\n",
       "            console.log([gd, 'removed!']);\n",
       "            Plotly.purge(gd);\n",
       "            observer.disconnect();\n",
       "        }}\n",
       "}});\n",
       "\n",
       "// Listen for the removal of the full notebook cells\n",
       "var notebookContainer = gd.closest('#notebook-container');\n",
       "if (notebookContainer) {{\n",
       "    x.observe(notebookContainer, {childList: true});\n",
       "}}\n",
       "\n",
       "// Listen for the clearing of the current output cell\n",
       "var outputEl = gd.closest('.output');\n",
       "if (outputEl) {{\n",
       "    x.observe(outputEl, {childList: true});\n",
       "}}\n",
       "\n",
       "                        })                };                });            </script>        </div>"
      ]
     },
     "metadata": {},
     "output_type": "display_data"
    }
   ],
   "source": [
    "import plotly.express as px\n",
    "\n",
    "# Create scatterplot with Plotly\n",
    "fig = px.scatter(filtered_ros_stockists, x='%ROS Change Vs LY', y='%Stockists Change Vs LY', color='Type Of Alcohol', hover_data=['Brand', \"Country\"])\n",
    "\n",
    "# Update the size of the markers\n",
    "fig.update_traces(marker=dict(size=15))  # Set all markers to a size of 15\n",
    "\n",
    "# Customize the layout\n",
    "fig.update_layout(\n",
    "        title={\n",
    "        'text': \"Interactive Scatterplot of %RoS Change vs. LY vs %Stockists Change vs. LY<br><sup>Brands with stockists >1k | Brands with over +100% and below -100% for RoS and Stockists change not shown</sup>\",\n",
    "        'y':0.92,\n",
    "        'x':0.5,\n",
    "        'xanchor': 'center',\n",
    "        'yanchor': 'top'\n",
    "    },\n",
    "    xaxis_title='%ROS Change Vs LY',\n",
    "    yaxis_title='%Stockists Change Vs LY'\n",
    ")\n",
    "\n",
    "# Show the plot\n",
    "fig.show()\n",
    "\n",
    "\n",
    "# Save the plot as an HTML file\n",
    "#fig.write_html(\"interactive_scatterplot.html\")\n",
    "\n",
    "\n"
   ]
  },
  {
   "cell_type": "markdown",
   "id": "36c0c0fc",
   "metadata": {},
   "source": [
    "# "
   ]
  }
 ],
 "metadata": {
  "kernelspec": {
   "display_name": "Python 3 (ipykernel)",
   "language": "python",
   "name": "python3"
  },
  "language_info": {
   "codemirror_mode": {
    "name": "ipython",
    "version": 3
   },
   "file_extension": ".py",
   "mimetype": "text/x-python",
   "name": "python",
   "nbconvert_exporter": "python",
   "pygments_lexer": "ipython3",
   "version": "3.11.4"
  }
 },
 "nbformat": 4,
 "nbformat_minor": 5
}
