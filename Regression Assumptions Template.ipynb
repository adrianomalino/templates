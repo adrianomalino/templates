{
 "cells": [
  {
   "cell_type": "markdown",
   "id": "149b659b",
   "metadata": {},
   "source": [
    "# What's being done here:\n",
    "1. Set the Working Directory: Set and verify the working directory.\n",
    "2. Load the Dataset: Load the dataset and display the first few rows.\n",
    "3. Define Variables: Define the target variable, control variables, and independent variables.\n",
    "4. Check for Linear Relationship: Use scatter plots and a correlation matrix.\n",
    "5. Check for Multicollinearity: Calculate Variance Inflation Factor (VIF) for each feature, including control variables.\n",
    "6. Check for Homoscedasticity: Plot residuals vs. fitted values.\n",
    "7. Check for Normality of Residuals: Use histogram, Q-Q plot, and Shapiro-Wilk test.\n",
    "8. Check for Autocorrelation: Use the Durbin-Watson test.\n",
    "9. Check for Independence of Errors: Note the importance of random sampling.\n",
    "10. Model Summary: Print the regression model summary."
   ]
  },
  {
   "cell_type": "code",
   "execution_count": null,
   "id": "47e0395c",
   "metadata": {},
   "outputs": [],
   "source": [
    "import os\n",
    "import pandas as pd\n",
    "import numpy as np\n",
    "import matplotlib.pyplot as plt\n",
    "import seaborn as sns\n",
    "import statsmodels.api as sm\n",
    "from statsmodels.stats.outliers_influence import variance_inflation_factor\n",
    "from scipy import stats\n",
    "\n",
    "# Set the working directory\n",
    "working_directory = 'your_directory_path'  # Replace with your desired directory path\n",
    "os.chdir(working_directory)\n",
    "\n",
    "# Verify the current working directory\n",
    "print(\"Current Working Directory:\", os.getcwd())"
   ]
  },
  {
   "cell_type": "code",
   "execution_count": null,
   "id": "aaea568b",
   "metadata": {},
   "outputs": [],
   "source": [
    "# Load the dataset\n",
    "# df = pd.read_csv('your_dataset.csv')  # Load your dataset here\n",
    "# df = pd.read_excel('your_dataset.xlsx')  # Alternatively, load an Excel file\n",
    "\n",
    "# Display the first few rows of the dataset\n",
    "print(\"First few rows of the dataset:\")\n",
    "print(df.head())"
   ]
  },
  {
   "cell_type": "code",
   "execution_count": null,
   "id": "21b496b2",
   "metadata": {},
   "outputs": [],
   "source": [
    "# Define the target variable and control variables\n",
    "target_variable = 'your_target_variable'  # Replace with your target variable\n",
    "control_variables = ['control_var1', 'control_var2']  # Replace with your control variables\n",
    "independent_variables = [col for col in df.columns if col not in [target_variable] + control_variables]"
   ]
  },
  {
   "cell_type": "code",
   "execution_count": null,
   "id": "918bdde4",
   "metadata": {},
   "outputs": [],
   "source": [
    "# Checking for Linear Relationship\n",
    "# Scatter plot and correlation matrix\n",
    "for feature in independent_variables:\n",
    "    plt.figure(figsize=(10, 6))\n",
    "    sns.scatterplot(x=df[feature], y=df[target_variable])\n",
    "    plt.title(f'{feature} vs {target_variable}')\n",
    "    plt.show()"
   ]
  },
  {
   "cell_type": "code",
   "execution_count": null,
   "id": "d7d2bef3",
   "metadata": {},
   "outputs": [],
   "source": [
    "# Correlation matrix\n",
    "plt.figure(figsize=(12, 8))\n",
    "corr_matrix = df.corr()\n",
    "sns.heatmap(corr_matrix, annot=True, cmap='coolwarm')\n",
    "plt.title('Correlation Matrix')\n",
    "plt.show()"
   ]
  },
  {
   "cell_type": "code",
   "execution_count": null,
   "id": "355c6723",
   "metadata": {},
   "outputs": [],
   "source": [
    "# Checking for Multicollinearity\n",
    "# Calculate VIF for each feature\n",
    "X = df[independent_variables + control_variables]\n",
    "X = sm.add_constant(X)  # Adding a constant for intercept\n",
    "vif_data = pd.DataFrame()\n",
    "vif_data['feature'] = X.columns\n",
    "vif_data['VIF'] = [variance_inflation_factor(X.values, i) for i in range(X.shape[1])]\n",
    "print(\"\\nVariance Inflation Factor (VIF):\")\n",
    "print(vif_data)"
   ]
  },
  {
   "cell_type": "code",
   "execution_count": null,
   "id": "abe294cc",
   "metadata": {},
   "outputs": [],
   "source": [
    "# Checking for Homoscedasticity\n",
    "# Residuals plot\n",
    "X = df[independent_variables + control_variables]\n",
    "X = sm.add_constant(X)  # Adding a constant for intercept\n",
    "y = df[target_variable]\n",
    "model = sm.OLS(y, X).fit()\n",
    "residuals = model.resid\n",
    "fitted = model.fittedvalues\n",
    "\n",
    "plt.figure(figsize=(10, 6))\n",
    "sns.scatterplot(x=fitted, y=residuals)\n",
    "plt.axhline(0, color='red', linestyle='--')\n",
    "plt.title('Residuals vs Fitted Values')\n",
    "plt.xlabel('Fitted Values')\n",
    "plt.ylabel('Residuals')\n",
    "plt.show()"
   ]
  },
  {
   "cell_type": "code",
   "execution_count": null,
   "id": "d22c1853",
   "metadata": {},
   "outputs": [],
   "source": [
    "# Checking for Normality of Residuals\n",
    "# Histogram and Q-Q plot\n",
    "plt.figure(figsize=(10, 6))\n",
    "sns.histplot(residuals, kde=True)\n",
    "plt.title('Distribution of Residuals')\n",
    "plt.show()\n",
    "\n",
    "sm.qqplot(residuals, line='s')\n",
    "plt.title('Q-Q Plot of Residuals')\n",
    "plt.show()\n",
    "\n",
    "# Shapiro-Wilk test for normality\n",
    "shapiro_test = stats.shapiro(residuals)\n",
    "print(f\"\\nShapiro-Wilk test: W={shapiro_test[0]}, p-value={shapiro_test[1]}\")"
   ]
  },
  {
   "cell_type": "code",
   "execution_count": null,
   "id": "c886bef0",
   "metadata": {},
   "outputs": [],
   "source": [
    "# Checking for Autocorrelation\n",
    "# Durbin-Watson test\n",
    "durbin_watson = sm.stats.durbin_watson(residuals)\n",
    "print(f\"\\nDurbin-Watson statistic: {durbin_watson}\")"
   ]
  },
  {
   "cell_type": "code",
   "execution_count": null,
   "id": "6aa5a4ad",
   "metadata": {},
   "outputs": [],
   "source": [
    "# Checking for Independence of Errors\n",
    "# This is often domain-specific and harder to test statistically. Ensuring random sampling is a good practice."
   ]
  },
  {
   "cell_type": "code",
   "execution_count": null,
   "id": "36319f49",
   "metadata": {},
   "outputs": [],
   "source": [
    "# Summary of the model\n",
    "print(\"\\nRegression Model Summary:\")\n",
    "print(model.summary())"
   ]
  }
 ],
 "metadata": {
  "kernelspec": {
   "display_name": "Python 3 (ipykernel)",
   "language": "python",
   "name": "python3"
  },
  "language_info": {
   "codemirror_mode": {
    "name": "ipython",
    "version": 3
   },
   "file_extension": ".py",
   "mimetype": "text/x-python",
   "name": "python",
   "nbconvert_exporter": "python",
   "pygments_lexer": "ipython3",
   "version": "3.11.4"
  }
 },
 "nbformat": 4,
 "nbformat_minor": 5
}
