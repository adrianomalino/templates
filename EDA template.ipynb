{
 "cells": [
  {
   "cell_type": "code",
   "execution_count": null,
   "id": "48d7bb25",
   "metadata": {},
   "outputs": [],
   "source": [
    "# Import necessary libraries\n",
    "import os\n",
    "import pandas as pd\n",
    "import numpy as np\n",
    "import matplotlib.pyplot as plt\n",
    "import seaborn as sns\n",
    "from scipy import stats"
   ]
  },
  {
   "cell_type": "code",
   "execution_count": null,
   "id": "33778305",
   "metadata": {},
   "outputs": [],
   "source": [
    "# Setting working directory\n",
    "#working_directory = 'your_directory_path'\n",
    "#os.chdir(working_directory)\n",
    "\n",
    "# Load the dataset\n",
    "# df = pd.read_csv('your_dataset.csv')  # Load your dataset here\n",
    "# df = pd.read_excel('your_dataset.xlsx')  # Alternatively, load an Excel file"
   ]
  },
  {
   "cell_type": "code",
   "execution_count": null,
   "id": "118f215d",
   "metadata": {},
   "outputs": [],
   "source": [
    "# Display the first few rows of the dataset\n",
    "print(\"First few rows of the dataset:\")\n",
    "print(df.head())\n",
    "\n",
    "# Display basic information about the dataset\n",
    "print(\"\\nBasic Information:\")\n",
    "print(df.info())\n",
    "\n",
    "# Display summary statistics of the dataset\n",
    "print(\"\\nSummary Statistics:\")\n",
    "print(df.describe())"
   ]
  },
  {
   "cell_type": "code",
   "execution_count": null,
   "id": "c6728497",
   "metadata": {},
   "outputs": [],
   "source": [
    "# Display the number of missing values for each column\n",
    "print(\"\\nMissing Values:\")\n",
    "print(df.isnull().sum())\n",
    "\n",
    "# Visualize missing values using a heatmap\n",
    "plt.figure(figsize=(10, 6))\n",
    "sns.heatmap(df.isnull(), cbar=False, cmap='viridis')\n",
    "plt.title('Missing Values Heatmap')\n",
    "plt.show()\n",
    "\n",
    "# Handle missing values\n",
    "# Example: Fill missing values with the mean of the column\n",
    "# df.fillna(df.mean(), inplace=True)"
   ]
  },
  {
   "cell_type": "code",
   "execution_count": null,
   "id": "3e41ebb7",
   "metadata": {},
   "outputs": [],
   "source": [
    "# Display the data types of each column\n",
    "print(\"\\nData Types:\")\n",
    "print(df.dtypes)\n",
    "\n",
    "# Convert data types if necessary\n",
    "# Example: Convert a column to datetime\n",
    "# df['date_column'] = pd.to_datetime(df['date_column'])"
   ]
  },
  {
   "cell_type": "code",
   "execution_count": null,
   "id": "8173f757",
   "metadata": {},
   "outputs": [],
   "source": [
    "# Visualize the distribution of numerical features\n",
    "numerical_features = df.select_dtypes(include=[np.number]).columns.tolist()\n",
    "for feature in numerical_features:\n",
    "    plt.figure(figsize=(10, 6))\n",
    "    sns.histplot(df[feature], kde=True)\n",
    "    plt.title(f'Distribution of {feature}')\n",
    "    plt.show()"
   ]
  },
  {
   "cell_type": "code",
   "execution_count": null,
   "id": "1aa7c53b",
   "metadata": {},
   "outputs": [],
   "source": [
    "# Visualize the distribution of categorical features\n",
    "categorical_features = df.select_dtypes(include=[object]).columns.tolist()\n",
    "for feature in categorical_features:\n",
    "    plt.figure(figsize=(10, 6))\n",
    "    sns.countplot(y=df[feature])\n",
    "    plt.title(f'Distribution of {feature}')\n",
    "    plt.show()"
   ]
  },
  {
   "cell_type": "code",
   "execution_count": null,
   "id": "09bb176e",
   "metadata": {},
   "outputs": [],
   "source": [
    "# Correlation matrix to understand relationships between numerical features\n",
    "plt.figure(figsize=(12, 8))\n",
    "corr_matrix = df.corr()\n",
    "sns.heatmap(corr_matrix, annot=True, cmap='coolwarm')\n",
    "plt.title('Correlation Matrix')\n",
    "plt.show()\n",
    "\n",
    "# Pair plot to visualize relationships between numerical features\n",
    "sns.pairplot(df[numerical_features])\n",
    "plt.show()"
   ]
  },
  {
   "cell_type": "code",
   "execution_count": null,
   "id": "26a28d97",
   "metadata": {},
   "outputs": [],
   "source": [
    "# Box plots to detect outliers in numerical features\n",
    "for feature in numerical_features:\n",
    "    plt.figure(figsize=(10, 6))\n",
    "    sns.boxplot(x=df[feature])\n",
    "    plt.title(f'Box Plot of {feature}')\n",
    "    plt.show()\n",
    "\n",
    "# Identify and handle outliers\n",
    "# Example: Remove outliers using Z-score\n",
    "z_scores = np.abs(stats.zscore(df[numerical_features]))\n",
    "df = df[(z_scores < 3).all(axis=1)]"
   ]
  },
  {
   "cell_type": "code",
   "execution_count": null,
   "id": "5d6734ad",
   "metadata": {},
   "outputs": [],
   "source": [
    "# Group by and aggregation to understand categorical features better\n",
    "for feature in categorical_features:\n",
    "    print(f\"\\nAggregation for {feature}:\")\n",
    "    print(df.groupby(feature).mean())\n",
    "\n",
    "# Visualize the relationship between categorical and numerical features\n",
    "for cat_feature in categorical_features:\n",
    "    for num_feature in numerical_features:\n",
    "        plt.figure(figsize=(10, 6))\n",
    "        sns.boxplot(x=df[cat_feature], y=df[num_feature])\n",
    "        plt.title(f'{num_feature} by {cat_feature}')\n",
    "        plt.show()"
   ]
  },
  {
   "cell_type": "code",
   "execution_count": null,
   "id": "3ccdbdfa",
   "metadata": {},
   "outputs": [],
   "source": [
    "# Save the cleaned and processed data to a new file\n",
    "# df.to_csv('cleaned_dataset.csv', index=False)\n",
    "\n",
    "print(\"\\nEDA complete. Cleaned dataset saved (if applicable).\")"
   ]
  }
 ],
 "metadata": {
  "kernelspec": {
   "display_name": "Python 3 (ipykernel)",
   "language": "python",
   "name": "python3"
  },
  "language_info": {
   "codemirror_mode": {
    "name": "ipython",
    "version": 3
   },
   "file_extension": ".py",
   "mimetype": "text/x-python",
   "name": "python",
   "nbconvert_exporter": "python",
   "pygments_lexer": "ipython3",
   "version": "3.11.4"
  }
 },
 "nbformat": 4,
 "nbformat_minor": 5
}
